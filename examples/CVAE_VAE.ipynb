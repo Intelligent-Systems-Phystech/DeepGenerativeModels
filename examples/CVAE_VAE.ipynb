{
 "cells": [
  {
   "cell_type": "markdown",
   "metadata": {},
   "source": [
    "### CVAE and VAE realization"
   ]
  },
  {
   "cell_type": "markdown",
   "metadata": {},
   "source": [
    "VAE was realized; it turns into CVAE by setting conditional = True instead of False. "
   ]
  },
  {
   "cell_type": "code",
   "execution_count": 2,
   "metadata": {
    "colab": {
     "base_uri": "https://localhost:8080/",
     "height": 91,
     "resources": {
      "http://localhost:8080/nbextensions/google.colab/files.js": {
       "data": "Ly8gQ29weXJpZ2h0IDIwMTcgR29vZ2xlIExMQwovLwovLyBMaWNlbnNlZCB1bmRlciB0aGUgQXBhY2hlIExpY2Vuc2UsIFZlcnNpb24gMi4wICh0aGUgIkxpY2Vuc2UiKTsKLy8geW91IG1heSBub3QgdXNlIHRoaXMgZmlsZSBleGNlcHQgaW4gY29tcGxpYW5jZSB3aXRoIHRoZSBMaWNlbnNlLgovLyBZb3UgbWF5IG9idGFpbiBhIGNvcHkgb2YgdGhlIExpY2Vuc2UgYXQKLy8KLy8gICAgICBodHRwOi8vd3d3LmFwYWNoZS5vcmcvbGljZW5zZXMvTElDRU5TRS0yLjAKLy8KLy8gVW5sZXNzIHJlcXVpcmVkIGJ5IGFwcGxpY2FibGUgbGF3IG9yIGFncmVlZCB0byBpbiB3cml0aW5nLCBzb2Z0d2FyZQovLyBkaXN0cmlidXRlZCB1bmRlciB0aGUgTGljZW5zZSBpcyBkaXN0cmlidXRlZCBvbiBhbiAiQVMgSVMiIEJBU0lTLAovLyBXSVRIT1VUIFdBUlJBTlRJRVMgT1IgQ09ORElUSU9OUyBPRiBBTlkgS0lORCwgZWl0aGVyIGV4cHJlc3Mgb3IgaW1wbGllZC4KLy8gU2VlIHRoZSBMaWNlbnNlIGZvciB0aGUgc3BlY2lmaWMgbGFuZ3VhZ2UgZ292ZXJuaW5nIHBlcm1pc3Npb25zIGFuZAovLyBsaW1pdGF0aW9ucyB1bmRlciB0aGUgTGljZW5zZS4KCi8qKgogKiBAZmlsZW92ZXJ2aWV3IEhlbHBlcnMgZm9yIGdvb2dsZS5jb2xhYiBQeXRob24gbW9kdWxlLgogKi8KKGZ1bmN0aW9uKHNjb3BlKSB7CmZ1bmN0aW9uIHNwYW4odGV4dCwgc3R5bGVBdHRyaWJ1dGVzID0ge30pIHsKICBjb25zdCBlbGVtZW50ID0gZG9jdW1lbnQuY3JlYXRlRWxlbWVudCgnc3BhbicpOwogIGVsZW1lbnQudGV4dENvbnRlbnQgPSB0ZXh0OwogIGZvciAoY29uc3Qga2V5IG9mIE9iamVjdC5rZXlzKHN0eWxlQXR0cmlidXRlcykpIHsKICAgIGVsZW1lbnQuc3R5bGVba2V5XSA9IHN0eWxlQXR0cmlidXRlc1trZXldOwogIH0KICByZXR1cm4gZWxlbWVudDsKfQoKLy8gTWF4IG51bWJlciBvZiBieXRlcyB3aGljaCB3aWxsIGJlIHVwbG9hZGVkIGF0IGEgdGltZS4KY29uc3QgTUFYX1BBWUxPQURfU0laRSA9IDEwMCAqIDEwMjQ7Ci8vIE1heCBhbW91bnQgb2YgdGltZSB0byBibG9jayB3YWl0aW5nIGZvciB0aGUgdXNlci4KY29uc3QgRklMRV9DSEFOR0VfVElNRU9VVF9NUyA9IDMwICogMTAwMDsKCmZ1bmN0aW9uIF91cGxvYWRGaWxlcyhpbnB1dElkLCBvdXRwdXRJZCkgewogIGNvbnN0IHN0ZXBzID0gdXBsb2FkRmlsZXNTdGVwKGlucHV0SWQsIG91dHB1dElkKTsKICBjb25zdCBvdXRwdXRFbGVtZW50ID0gZG9jdW1lbnQuZ2V0RWxlbWVudEJ5SWQob3V0cHV0SWQpOwogIC8vIENhY2hlIHN0ZXBzIG9uIHRoZSBvdXRwdXRFbGVtZW50IHRvIG1ha2UgaXQgYXZhaWxhYmxlIGZvciB0aGUgbmV4dCBjYWxsCiAgLy8gdG8gdXBsb2FkRmlsZXNDb250aW51ZSBmcm9tIFB5dGhvbi4KICBvdXRwdXRFbGVtZW50LnN0ZXBzID0gc3RlcHM7CgogIHJldHVybiBfdXBsb2FkRmlsZXNDb250aW51ZShvdXRwdXRJZCk7Cn0KCi8vIFRoaXMgaXMgcm91Z2hseSBhbiBhc3luYyBnZW5lcmF0b3IgKG5vdCBzdXBwb3J0ZWQgaW4gdGhlIGJyb3dzZXIgeWV0KSwKLy8gd2hlcmUgdGhlcmUgYXJlIG11bHRpcGxlIGFzeW5jaHJvbm91cyBzdGVwcyBhbmQgdGhlIFB5dGhvbiBzaWRlIGlzIGdvaW5nCi8vIHRvIHBvbGwgZm9yIGNvbXBsZXRpb24gb2YgZWFjaCBzdGVwLgovLyBUaGlzIHVzZXMgYSBQcm9taXNlIHRvIGJsb2NrIHRoZSBweXRob24gc2lkZSBvbiBjb21wbGV0aW9uIG9mIGVhY2ggc3RlcCwKLy8gdGhlbiBwYXNzZXMgdGhlIHJlc3VsdCBvZiB0aGUgcHJldmlvdXMgc3RlcCBhcyB0aGUgaW5wdXQgdG8gdGhlIG5leHQgc3RlcC4KZnVuY3Rpb24gX3VwbG9hZEZpbGVzQ29udGludWUob3V0cHV0SWQpIHsKICBjb25zdCBvdXRwdXRFbGVtZW50ID0gZG9jdW1lbnQuZ2V0RWxlbWVudEJ5SWQob3V0cHV0SWQpOwogIGNvbnN0IHN0ZXBzID0gb3V0cHV0RWxlbWVudC5zdGVwczsKCiAgY29uc3QgbmV4dCA9IHN0ZXBzLm5leHQob3V0cHV0RWxlbWVudC5sYXN0UHJvbWlzZVZhbHVlKTsKICByZXR1cm4gUHJvbWlzZS5yZXNvbHZlKG5leHQudmFsdWUucHJvbWlzZSkudGhlbigodmFsdWUpID0+IHsKICAgIC8vIENhY2hlIHRoZSBsYXN0IHByb21pc2UgdmFsdWUgdG8gbWFrZSBpdCBhdmFpbGFibGUgdG8gdGhlIG5leHQKICAgIC8vIHN0ZXAgb2YgdGhlIGdlbmVyYXRvci4KICAgIG91dHB1dEVsZW1lbnQubGFzdFByb21pc2VWYWx1ZSA9IHZhbHVlOwogICAgcmV0dXJuIG5leHQudmFsdWUucmVzcG9uc2U7CiAgfSk7Cn0KCi8qKgogKiBHZW5lcmF0b3IgZnVuY3Rpb24gd2hpY2ggaXMgY2FsbGVkIGJldHdlZW4gZWFjaCBhc3luYyBzdGVwIG9mIHRoZSB1cGxvYWQKICogcHJvY2Vzcy4KICogQHBhcmFtIHtzdHJpbmd9IGlucHV0SWQgRWxlbWVudCBJRCBvZiB0aGUgaW5wdXQgZmlsZSBwaWNrZXIgZWxlbWVudC4KICogQHBhcmFtIHtzdHJpbmd9IG91dHB1dElkIEVsZW1lbnQgSUQgb2YgdGhlIG91dHB1dCBkaXNwbGF5LgogKiBAcmV0dXJuIHshSXRlcmFibGU8IU9iamVjdD59IEl0ZXJhYmxlIG9mIG5leHQgc3RlcHMuCiAqLwpmdW5jdGlvbiogdXBsb2FkRmlsZXNTdGVwKGlucHV0SWQsIG91dHB1dElkKSB7CiAgY29uc3QgaW5wdXRFbGVtZW50ID0gZG9jdW1lbnQuZ2V0RWxlbWVudEJ5SWQoaW5wdXRJZCk7CiAgaW5wdXRFbGVtZW50LmRpc2FibGVkID0gZmFsc2U7CgogIGNvbnN0IG91dHB1dEVsZW1lbnQgPSBkb2N1bWVudC5nZXRFbGVtZW50QnlJZChvdXRwdXRJZCk7CiAgb3V0cHV0RWxlbWVudC5pbm5lckhUTUwgPSAnJzsKCiAgY29uc3QgcGlja2VkUHJvbWlzZSA9IG5ldyBQcm9taXNlKChyZXNvbHZlKSA9PiB7CiAgICBpbnB1dEVsZW1lbnQuYWRkRXZlbnRMaXN0ZW5lcignY2hhbmdlJywgKGUpID0+IHsKICAgICAgcmVzb2x2ZShlLnRhcmdldC5maWxlcyk7CiAgICB9KTsKICB9KTsKCiAgY29uc3QgY2FuY2VsID0gZG9jdW1lbnQuY3JlYXRlRWxlbWVudCgnYnV0dG9uJyk7CiAgaW5wdXRFbGVtZW50LnBhcmVudEVsZW1lbnQuYXBwZW5kQ2hpbGQoY2FuY2VsKTsKICBjYW5jZWwudGV4dENvbnRlbnQgPSAnQ2FuY2VsIHVwbG9hZCc7CiAgY29uc3QgY2FuY2VsUHJvbWlzZSA9IG5ldyBQcm9taXNlKChyZXNvbHZlKSA9PiB7CiAgICBjYW5jZWwub25jbGljayA9ICgpID0+IHsKICAgICAgcmVzb2x2ZShudWxsKTsKICAgIH07CiAgfSk7CgogIC8vIENhbmNlbCB1cGxvYWQgaWYgdXNlciBoYXNuJ3QgcGlja2VkIGFueXRoaW5nIGluIHRpbWVvdXQuCiAgY29uc3QgdGltZW91dFByb21pc2UgPSBuZXcgUHJvbWlzZSgocmVzb2x2ZSkgPT4gewogICAgc2V0VGltZW91dCgoKSA9PiB7CiAgICAgIHJlc29sdmUobnVsbCk7CiAgICB9LCBGSUxFX0NIQU5HRV9USU1FT1VUX01TKTsKICB9KTsKCiAgLy8gV2FpdCBmb3IgdGhlIHVzZXIgdG8gcGljayB0aGUgZmlsZXMuCiAgY29uc3QgZmlsZXMgPSB5aWVsZCB7CiAgICBwcm9taXNlOiBQcm9taXNlLnJhY2UoW3BpY2tlZFByb21pc2UsIHRpbWVvdXRQcm9taXNlLCBjYW5jZWxQcm9taXNlXSksCiAgICByZXNwb25zZTogewogICAgICBhY3Rpb246ICdzdGFydGluZycsCiAgICB9CiAgfTsKCiAgaWYgKCFmaWxlcykgewogICAgcmV0dXJuIHsKICAgICAgcmVzcG9uc2U6IHsKICAgICAgICBhY3Rpb246ICdjb21wbGV0ZScsCiAgICAgIH0KICAgIH07CiAgfQoKICBjYW5jZWwucmVtb3ZlKCk7CgogIC8vIERpc2FibGUgdGhlIGlucHV0IGVsZW1lbnQgc2luY2UgZnVydGhlciBwaWNrcyBhcmUgbm90IGFsbG93ZWQuCiAgaW5wdXRFbGVtZW50LmRpc2FibGVkID0gdHJ1ZTsKCiAgZm9yIChjb25zdCBmaWxlIG9mIGZpbGVzKSB7CiAgICBjb25zdCBsaSA9IGRvY3VtZW50LmNyZWF0ZUVsZW1lbnQoJ2xpJyk7CiAgICBsaS5hcHBlbmQoc3BhbihmaWxlLm5hbWUsIHtmb250V2VpZ2h0OiAnYm9sZCd9KSk7CiAgICBsaS5hcHBlbmQoc3BhbigKICAgICAgICBgKCR7ZmlsZS50eXBlIHx8ICduL2EnfSkgLSAke2ZpbGUuc2l6ZX0gYnl0ZXMsIGAgKwogICAgICAgIGBsYXN0IG1vZGlmaWVkOiAkewogICAgICAgICAgICBmaWxlLmxhc3RNb2RpZmllZERhdGUgPyBmaWxlLmxhc3RNb2RpZmllZERhdGUudG9Mb2NhbGVEYXRlU3RyaW5nKCkgOgogICAgICAgICAgICAgICAgICAgICAgICAgICAgICAgICAgICAnbi9hJ30gLSBgKSk7CiAgICBjb25zdCBwZXJjZW50ID0gc3BhbignMCUgZG9uZScpOwogICAgbGkuYXBwZW5kQ2hpbGQocGVyY2VudCk7CgogICAgb3V0cHV0RWxlbWVudC5hcHBlbmRDaGlsZChsaSk7CgogICAgY29uc3QgZmlsZURhdGFQcm9taXNlID0gbmV3IFByb21pc2UoKHJlc29sdmUpID0+IHsKICAgICAgY29uc3QgcmVhZGVyID0gbmV3IEZpbGVSZWFkZXIoKTsKICAgICAgcmVhZGVyLm9ubG9hZCA9IChlKSA9PiB7CiAgICAgICAgcmVzb2x2ZShlLnRhcmdldC5yZXN1bHQpOwogICAgICB9OwogICAgICByZWFkZXIucmVhZEFzQXJyYXlCdWZmZXIoZmlsZSk7CiAgICB9KTsKICAgIC8vIFdhaXQgZm9yIHRoZSBkYXRhIHRvIGJlIHJlYWR5LgogICAgbGV0IGZpbGVEYXRhID0geWllbGQgewogICAgICBwcm9taXNlOiBmaWxlRGF0YVByb21pc2UsCiAgICAgIHJlc3BvbnNlOiB7CiAgICAgICAgYWN0aW9uOiAnY29udGludWUnLAogICAgICB9CiAgICB9OwoKICAgIC8vIFVzZSBhIGNodW5rZWQgc2VuZGluZyB0byBhdm9pZCBtZXNzYWdlIHNpemUgbGltaXRzLiBTZWUgYi82MjExNTY2MC4KICAgIGxldCBwb3NpdGlvbiA9IDA7CiAgICB3aGlsZSAocG9zaXRpb24gPCBmaWxlRGF0YS5ieXRlTGVuZ3RoKSB7CiAgICAgIGNvbnN0IGxlbmd0aCA9IE1hdGgubWluKGZpbGVEYXRhLmJ5dGVMZW5ndGggLSBwb3NpdGlvbiwgTUFYX1BBWUxPQURfU0laRSk7CiAgICAgIGNvbnN0IGNodW5rID0gbmV3IFVpbnQ4QXJyYXkoZmlsZURhdGEsIHBvc2l0aW9uLCBsZW5ndGgpOwogICAgICBwb3NpdGlvbiArPSBsZW5ndGg7CgogICAgICBjb25zdCBiYXNlNjQgPSBidG9hKFN0cmluZy5mcm9tQ2hhckNvZGUuYXBwbHkobnVsbCwgY2h1bmspKTsKICAgICAgeWllbGQgewogICAgICAgIHJlc3BvbnNlOiB7CiAgICAgICAgICBhY3Rpb246ICdhcHBlbmQnLAogICAgICAgICAgZmlsZTogZmlsZS5uYW1lLAogICAgICAgICAgZGF0YTogYmFzZTY0LAogICAgICAgIH0sCiAgICAgIH07CiAgICAgIHBlcmNlbnQudGV4dENvbnRlbnQgPQogICAgICAgICAgYCR7TWF0aC5yb3VuZCgocG9zaXRpb24gLyBmaWxlRGF0YS5ieXRlTGVuZ3RoKSAqIDEwMCl9JSBkb25lYDsKICAgIH0KICB9CgogIC8vIEFsbCBkb25lLgogIHlpZWxkIHsKICAgIHJlc3BvbnNlOiB7CiAgICAgIGFjdGlvbjogJ2NvbXBsZXRlJywKICAgIH0KICB9Owp9CgpzY29wZS5nb29nbGUgPSBzY29wZS5nb29nbGUgfHwge307CnNjb3BlLmdvb2dsZS5jb2xhYiA9IHNjb3BlLmdvb2dsZS5jb2xhYiB8fCB7fTsKc2NvcGUuZ29vZ2xlLmNvbGFiLl9maWxlcyA9IHsKICBfdXBsb2FkRmlsZXMsCiAgX3VwbG9hZEZpbGVzQ29udGludWUsCn07Cn0pKHNlbGYpOwo=",
       "headers": [
        [
         "content-type",
         "application/javascript"
        ]
       ],
       "ok": true,
       "status": 200,
       "status_text": ""
      }
     }
    },
    "colab_type": "code",
    "id": "5RHaBbhOqldp",
    "outputId": "c0bf55b7-9594-4ce5-ba80-548a412cecaf"
   },
   "outputs": [
    {
     "data": {
      "text/html": [
       "\n",
       "     <input type=\"file\" id=\"files-5226f356-3b47-4d81-8650-1d1e3aead938\" name=\"files[]\" multiple disabled />\n",
       "     <output id=\"result-5226f356-3b47-4d81-8650-1d1e3aead938\">\n",
       "      Upload widget is only available when the cell has been executed in the\n",
       "      current browser session. Please rerun this cell to enable.\n",
       "      </output>\n",
       "      <script src=\"/nbextensions/google.colab/files.js\"></script> "
      ],
      "text/plain": [
       "<IPython.core.display.HTML object>"
      ]
     },
     "metadata": {
      "tags": []
     },
     "output_type": "display_data"
    },
    {
     "name": "stdout",
     "output_type": "stream",
     "text": [
      "Saving CVAE.py to CVAE.py\n",
      "User uploaded file \"CVAE.py\" with length 8215 bytes\n"
     ]
    }
   ],
   "source": [
    "# Uploading module CVAE.py to colab server for using PyTorch.\n",
    "from google.colab import files\n",
    "\n",
    "uploaded = files.upload()\n",
    "\n",
    "for fn in uploaded.keys():\n",
    "  print('User uploaded file \"{name}\" with length {length} bytes'.format(\n",
    "      name=fn, length=len(uploaded[fn])))"
   ]
  },
  {
   "cell_type": "code",
   "execution_count": 0,
   "metadata": {
    "colab": {},
    "colab_type": "code",
    "id": "LtppaB4HrkJo"
   },
   "outputs": [],
   "source": [
    "# Import standard modules.\n",
    "import os\n",
    "import time\n",
    "import torch\n",
    "import argparse\n",
    "import pandas as pd\n",
    "from torchvision import transforms\n",
    "from torchvision.datasets import MNIST\n",
    "from torch.utils.data import DataLoader\n",
    "from collections import defaultdict"
   ]
  },
  {
   "cell_type": "code",
   "execution_count": 0,
   "metadata": {
    "colab": {},
    "colab_type": "code",
    "id": "6XNt4ai4rj-K"
   },
   "outputs": [],
   "source": [
    "# Import module VAE, standard loss function for VAE and function responsible for training.\n",
    "from CVAE import VAE, loss_VAE, train_VAE"
   ]
  },
  {
   "cell_type": "code",
   "execution_count": 0,
   "metadata": {
    "colab": {},
    "colab_type": "code",
    "id": "eDWT9MYp3MpS"
   },
   "outputs": [],
   "source": [
    "import matplotlib.pylab as plt\n",
    "%matplotlib inline"
   ]
  },
  {
   "cell_type": "code",
   "execution_count": 0,
   "metadata": {
    "colab": {},
    "colab_type": "code",
    "id": "SAP3tB9Orjyt"
   },
   "outputs": [],
   "source": [
    "# Starting device for calculations.\n",
    "torch.manual_seed(0)\n",
    "if torch.cuda.is_available():\n",
    "    torch.cuda.manual_seed(0)\n",
    "device = torch.device('cuda' if torch.cuda.is_available() else 'cpu')"
   ]
  },
  {
   "cell_type": "code",
   "execution_count": 7,
   "metadata": {
    "colab": {
     "base_uri": "https://localhost:8080/",
     "height": 1000
    },
    "colab_type": "code",
    "id": "3IrXOVyHsKpf",
    "outputId": "f36edf91-cd7f-4778-b083-cf972dfc252e"
   },
   "outputs": [
    {
     "name": "stderr",
     "output_type": "stream",
     "text": [
      "\r",
      "0it [00:00, ?it/s]"
     ]
    },
    {
     "name": "stdout",
     "output_type": "stream",
     "text": [
      "Downloading http://yann.lecun.com/exdb/mnist/train-images-idx3-ubyte.gz to data/MNIST/raw/train-images-idx3-ubyte.gz\n"
     ]
    },
    {
     "name": "stderr",
     "output_type": "stream",
     "text": [
      " 99%|█████████▉| 9846784/9912422 [00:33<00:00, 346282.15it/s]"
     ]
    },
    {
     "name": "stdout",
     "output_type": "stream",
     "text": [
      "Extracting data/MNIST/raw/train-images-idx3-ubyte.gz to data/MNIST/raw\n"
     ]
    },
    {
     "name": "stderr",
     "output_type": "stream",
     "text": [
      "\n",
      "0it [00:00, ?it/s]\u001b[A\n",
      "  0%|          | 0/28881 [00:00<?, ?it/s]\u001b[A"
     ]
    },
    {
     "name": "stdout",
     "output_type": "stream",
     "text": [
      "Downloading http://yann.lecun.com/exdb/mnist/train-labels-idx1-ubyte.gz to data/MNIST/raw/train-labels-idx1-ubyte.gz\n"
     ]
    },
    {
     "name": "stderr",
     "output_type": "stream",
     "text": [
      "\n",
      "32768it [00:00, 125578.79it/s]           \u001b[A\n",
      "0it [00:00, ?it/s]\u001b[A\n"
     ]
    },
    {
     "name": "stdout",
     "output_type": "stream",
     "text": [
      "Extracting data/MNIST/raw/train-labels-idx1-ubyte.gz to data/MNIST/raw\n",
      "Downloading http://yann.lecun.com/exdb/mnist/t10k-images-idx3-ubyte.gz to data/MNIST/raw/t10k-images-idx3-ubyte.gz\n"
     ]
    },
    {
     "name": "stderr",
     "output_type": "stream",
     "text": [
      "  0%|          | 0/1648877 [00:00<?, ?it/s]\u001b[A\n",
      "  0%|          | 8192/1648877 [00:00<00:37, 43859.20it/s]\u001b[A\n",
      "  2%|▏         | 40960/1648877 [00:00<00:28, 56686.99it/s]\u001b[A\n",
      "  4%|▍         | 73728/1648877 [00:00<00:21, 71688.01it/s]\u001b[A\n",
      "  6%|▌         | 98304/1648877 [00:00<00:18, 83670.71it/s]\u001b[A\n",
      "  8%|▊         | 131072/1648877 [00:01<00:14, 104264.29it/s]\u001b[A\n",
      "  9%|▉         | 155648/1648877 [00:01<00:12, 118775.21it/s]\u001b[A\n",
      " 11%|█▏        | 188416/1648877 [00:01<00:10, 132925.24it/s]\u001b[A\n",
      " 14%|█▍        | 229376/1648877 [00:01<00:09, 153311.16it/s]\u001b[A\n",
      " 16%|█▌        | 262144/1648877 [00:01<00:08, 161445.90it/s]\u001b[A\n",
      " 17%|█▋        | 286720/1648877 [00:01<00:09, 148753.14it/s]\u001b[A\n",
      " 19%|█▉        | 311296/1648877 [00:02<00:08, 157532.06it/s]\u001b[A\n",
      " 20%|██        | 335872/1648877 [00:02<00:08, 162383.78it/s]\u001b[A\n",
      " 22%|██▏       | 368640/1648877 [00:02<00:07, 165039.69it/s]\u001b[A\n",
      " 24%|██▍       | 401408/1648877 [00:02<00:06, 179013.70it/s]\u001b[A\n",
      " 26%|██▌       | 425984/1648877 [00:02<00:09, 133743.20it/s]\u001b[A\n",
      " 27%|██▋       | 450560/1648877 [00:02<00:08, 146565.46it/s]\u001b[A\n",
      " 29%|██▉       | 475136/1648877 [00:03<00:08, 141607.54it/s]\u001b[A\n",
      " 30%|██▉       | 491520/1648877 [00:03<00:09, 120262.94it/s]\u001b[A\n",
      " 31%|███       | 507904/1648877 [00:03<00:11, 97172.47it/s] \u001b[A\n",
      " 32%|███▏      | 524288/1648877 [00:03<00:12, 93585.66it/s]\u001b[A\n",
      " 33%|███▎      | 540672/1648877 [00:03<00:12, 91644.27it/s]\u001b[A\n",
      " 34%|███▍      | 557056/1648877 [00:04<00:14, 77050.88it/s]\u001b[A\n",
      " 35%|███▍      | 573440/1648877 [00:04<00:13, 79160.71it/s]\u001b[A\n",
      " 36%|███▌      | 589824/1648877 [00:05<00:29, 36215.46it/s]\u001b[A\n",
      " 37%|███▋      | 606208/1648877 [00:05<00:23, 44220.07it/s]\u001b[A\n",
      " 38%|███▊      | 622592/1648877 [00:05<00:19, 52010.70it/s]\u001b[A\n",
      " 39%|███▉      | 638976/1648877 [00:05<00:16, 60489.79it/s]\u001b[A\n",
      " 40%|███▉      | 655360/1648877 [00:06<00:14, 67839.12it/s]\u001b[A\n",
      " 41%|████      | 679936/1648877 [00:06<00:12, 79536.89it/s]\u001b[A\n",
      " 43%|████▎     | 704512/1648877 [00:06<00:10, 90745.89it/s]\u001b[A\n",
      " 44%|████▍     | 729088/1648877 [00:06<00:09, 101737.88it/s]\u001b[A\n",
      " 45%|████▌     | 745472/1648877 [00:06<00:09, 95664.13it/s] \u001b[A\n",
      " 47%|████▋     | 770048/1648877 [00:07<00:08, 104455.98it/s]\u001b[A\n",
      " 48%|████▊     | 794624/1648877 [00:07<00:07, 111727.35it/s]\u001b[A\n",
      " 50%|████▉     | 819200/1648877 [00:07<00:07, 117507.95it/s]\u001b[A\n",
      " 51%|█████     | 843776/1648877 [00:07<00:06, 123754.54it/s]\u001b[A\n",
      " 53%|█████▎    | 876544/1648877 [00:07<00:05, 136506.07it/s]\u001b[A\n",
      " 55%|█████▍    | 901120/1648877 [00:08<00:06, 117941.82it/s]\u001b[A\n",
      " 57%|█████▋    | 942080/1648877 [00:08<00:05, 136287.10it/s]\u001b[A\n",
      " 59%|█████▊    | 966656/1648877 [00:08<00:04, 137839.49it/s]\u001b[A\n",
      " 60%|██████    | 991232/1648877 [00:08<00:04, 158678.97it/s]\u001b[A\n",
      " 62%|██████▏   | 1015808/1648877 [00:08<00:04, 151303.08it/s]\u001b[A\n",
      " 63%|██████▎   | 1040384/1648877 [00:08<00:04, 150573.09it/s]\u001b[A\n",
      " 65%|██████▍   | 1064960/1648877 [00:08<00:03, 167898.61it/s]\u001b[A\n",
      " 66%|██████▌   | 1089536/1648877 [00:09<00:03, 163499.28it/s]\u001b[A\n",
      " 68%|██████▊   | 1114112/1648877 [00:09<00:02, 179580.02it/s]\u001b[A\n",
      " 70%|██████▉   | 1146880/1648877 [00:09<00:02, 185249.54it/s]\u001b[A\n",
      " 71%|███████   | 1171456/1648877 [00:09<00:03, 143599.37it/s]\u001b[A\n",
      " 74%|███████▎  | 1212416/1648877 [00:09<00:02, 174594.85it/s]\u001b[A\n",
      " 75%|███████▌  | 1236992/1648877 [00:09<00:02, 178950.09it/s]\u001b[A\n",
      " 77%|███████▋  | 1261568/1648877 [00:10<00:02, 177678.36it/s]\u001b[A\n",
      " 78%|███████▊  | 1286144/1648877 [00:10<00:01, 192646.76it/s]\u001b[A\n",
      " 79%|███████▉  | 1310720/1648877 [00:10<00:01, 196449.78it/s]\u001b[A\n",
      " 81%|████████  | 1335296/1648877 [00:10<00:01, 160606.89it/s]\u001b[A\n",
      " 83%|████████▎ | 1376256/1648877 [00:10<00:01, 176877.53it/s]\u001b[A\n",
      " 85%|████████▍ | 1400832/1648877 [00:10<00:01, 172303.75it/s]\u001b[A\n",
      " 86%|████████▋ | 1425408/1648877 [00:11<00:01, 138820.37it/s]\u001b[A\n",
      " 87%|████████▋ | 1441792/1648877 [00:11<00:01, 143577.37it/s]\u001b[A\n",
      " 88%|████████▊ | 1458176/1648877 [00:11<00:01, 134272.09it/s]\u001b[A\n",
      " 90%|████████▉ | 1482752/1648877 [00:11<00:01, 147236.83it/s]\u001b[A\n",
      " 91%|█████████▏| 1507328/1648877 [00:11<00:00, 144270.07it/s]\u001b[A\n",
      " 93%|█████████▎| 1531904/1648877 [00:11<00:00, 152704.29it/s]\u001b[A\n",
      " 94%|█████████▍| 1556480/1648877 [00:11<00:00, 162886.72it/s]\u001b[A\n",
      " 96%|█████████▌| 1581056/1648877 [00:12<00:00, 171170.77it/s]\u001b[A\n",
      " 97%|█████████▋| 1605632/1648877 [00:12<00:00, 137366.88it/s]\u001b[A\n",
      " 99%|█████████▉| 1638400/1648877 [00:12<00:00, 149624.71it/s]\u001b[A\n",
      "\n",
      "0it [00:00, ?it/s]\u001b[A\u001b[A"
     ]
    },
    {
     "name": "stdout",
     "output_type": "stream",
     "text": [
      "Extracting data/MNIST/raw/t10k-images-idx3-ubyte.gz to data/MNIST/raw\n",
      "Downloading http://yann.lecun.com/exdb/mnist/t10k-labels-idx1-ubyte.gz to data/MNIST/raw/t10k-labels-idx1-ubyte.gz\n"
     ]
    },
    {
     "name": "stderr",
     "output_type": "stream",
     "text": [
      "\n",
      "\n",
      "  0%|          | 0/4542 [00:00<?, ?it/s]\u001b[A\u001b[A\n",
      "\n",
      "8192it [00:00, 44383.71it/s]            \u001b[A\u001b[A"
     ]
    },
    {
     "name": "stdout",
     "output_type": "stream",
     "text": [
      "Extracting data/MNIST/raw/t10k-labels-idx1-ubyte.gz to data/MNIST/raw\n",
      "Processing...\n",
      "Done!\n"
     ]
    }
   ],
   "source": [
    "# Loading dataset MNIST.\n",
    "dataset = MNIST(root='data', train=True, transform=transforms.ToTensor(), download=True)\n",
    "data_loader = DataLoader(dataset=dataset, batch_size=64, shuffle=True)"
   ]
  },
  {
   "cell_type": "code",
   "execution_count": 0,
   "metadata": {
    "colab": {},
    "colab_type": "code",
    "id": "x_aAEim_tGEM"
   },
   "outputs": [],
   "source": [
    "# Initializing CVAE with 2-dimensional latent space.\n",
    "cvae = VAE(\n",
    "        encoder_layer_sizes=[784, 256, 64],\n",
    "        latent_size=2,\n",
    "        decoder_layer_sizes=[64, 256, 784],\n",
    "        conditional=True,\n",
    "        num_labels=10).to(device)"
   ]
  },
  {
   "cell_type": "code",
   "execution_count": 9,
   "metadata": {
    "colab": {
     "base_uri": "https://localhost:8080/",
     "height": 1000
    },
    "colab_type": "code",
    "id": "0UCmHkgstF55",
    "outputId": "f2bb59c8-6da3-4f32-c8ab-2315a0c9bc43"
   },
   "outputs": [
    {
     "name": "stdout",
     "output_type": "stream",
     "text": [
      "Epoch 00/50 Batch 0000/937, Loss  543.4011\n",
      "Epoch 00/50 Batch 0100/937, Loss  205.4473\n",
      "Epoch 00/50 Batch 0200/937, Loss  172.0365\n",
      "Epoch 00/50 Batch 0300/937, Loss  170.8638\n",
      "Epoch 00/50 Batch 0400/937, Loss  161.3579\n",
      "Epoch 00/50 Batch 0500/937, Loss  151.0773\n",
      "Epoch 00/50 Batch 0600/937, Loss  157.1652\n",
      "Epoch 00/50 Batch 0700/937, Loss  153.9571\n",
      "Epoch 00/50 Batch 0800/937, Loss  159.9479\n",
      "Epoch 00/50 Batch 0900/937, Loss  161.6620\n",
      "Epoch 00/50 Batch 0937/937, Loss  145.1361\n",
      "Epoch 01/50 Batch 0000/937, Loss  146.3928\n",
      "Epoch 01/50 Batch 0100/937, Loss  146.4885\n",
      "Epoch 01/50 Batch 0200/937, Loss  148.6547\n",
      "Epoch 01/50 Batch 0300/937, Loss  135.0985\n",
      "Epoch 01/50 Batch 0400/937, Loss  140.1828\n",
      "Epoch 01/50 Batch 0500/937, Loss  137.2558\n",
      "Epoch 01/50 Batch 0600/937, Loss  134.0114\n",
      "Epoch 01/50 Batch 0700/937, Loss  129.9714\n",
      "Epoch 01/50 Batch 0800/937, Loss  145.2571\n",
      "Epoch 01/50 Batch 0900/937, Loss  140.4999\n",
      "Epoch 01/50 Batch 0937/937, Loss  134.7928\n",
      "Epoch 02/50 Batch 0000/937, Loss  136.5918\n",
      "Epoch 02/50 Batch 0100/937, Loss  144.4098\n",
      "Epoch 02/50 Batch 0200/937, Loss  136.5601\n",
      "Epoch 02/50 Batch 0300/937, Loss  135.6156\n",
      "Epoch 02/50 Batch 0400/937, Loss  141.2120\n",
      "Epoch 02/50 Batch 0500/937, Loss  136.0373\n",
      "Epoch 02/50 Batch 0600/937, Loss  132.1133\n",
      "Epoch 02/50 Batch 0700/937, Loss  141.8074\n",
      "Epoch 02/50 Batch 0800/937, Loss  145.0159\n",
      "Epoch 02/50 Batch 0900/937, Loss  140.7332\n",
      "Epoch 02/50 Batch 0937/937, Loss  145.4050\n",
      "Epoch 03/50 Batch 0000/937, Loss  144.3788\n",
      "Epoch 03/50 Batch 0100/937, Loss  141.6216\n",
      "Epoch 03/50 Batch 0200/937, Loss  132.7520\n",
      "Epoch 03/50 Batch 0300/937, Loss  132.5145\n",
      "Epoch 03/50 Batch 0400/937, Loss  141.4764\n",
      "Epoch 03/50 Batch 0500/937, Loss  134.4166\n",
      "Epoch 03/50 Batch 0600/937, Loss  129.2789\n",
      "Epoch 03/50 Batch 0700/937, Loss  123.2097\n",
      "Epoch 03/50 Batch 0800/937, Loss  134.8895\n",
      "Epoch 03/50 Batch 0900/937, Loss  128.1490\n",
      "Epoch 03/50 Batch 0937/937, Loss  139.5754\n",
      "Epoch 04/50 Batch 0000/937, Loss  134.3094\n",
      "Epoch 04/50 Batch 0100/937, Loss  130.2178\n",
      "Epoch 04/50 Batch 0200/937, Loss  145.1508\n",
      "Epoch 04/50 Batch 0300/937, Loss  145.5213\n",
      "Epoch 04/50 Batch 0400/937, Loss  126.8809\n",
      "Epoch 04/50 Batch 0500/937, Loss  138.5338\n",
      "Epoch 04/50 Batch 0600/937, Loss  143.3982\n",
      "Epoch 04/50 Batch 0700/937, Loss  123.5688\n",
      "Epoch 04/50 Batch 0800/937, Loss  139.7313\n",
      "Epoch 04/50 Batch 0900/937, Loss  127.3384\n",
      "Epoch 04/50 Batch 0937/937, Loss  133.8801\n",
      "Epoch 05/50 Batch 0000/937, Loss  136.6251\n",
      "Epoch 05/50 Batch 0100/937, Loss  141.2123\n",
      "Epoch 05/50 Batch 0200/937, Loss  133.2939\n",
      "Epoch 05/50 Batch 0300/937, Loss  133.9381\n",
      "Epoch 05/50 Batch 0400/937, Loss  138.3566\n",
      "Epoch 05/50 Batch 0500/937, Loss  126.2802\n",
      "Epoch 05/50 Batch 0600/937, Loss  147.3403\n",
      "Epoch 05/50 Batch 0700/937, Loss  120.0828\n",
      "Epoch 05/50 Batch 0800/937, Loss  133.5322\n",
      "Epoch 05/50 Batch 0900/937, Loss  131.2308\n",
      "Epoch 05/50 Batch 0937/937, Loss  132.1200\n",
      "Epoch 06/50 Batch 0000/937, Loss  130.8838\n",
      "Epoch 06/50 Batch 0100/937, Loss  149.6858\n",
      "Epoch 06/50 Batch 0200/937, Loss  130.0951\n",
      "Epoch 06/50 Batch 0300/937, Loss  119.5688\n",
      "Epoch 06/50 Batch 0400/937, Loss  131.1528\n",
      "Epoch 06/50 Batch 0500/937, Loss  144.8106\n",
      "Epoch 06/50 Batch 0600/937, Loss  130.5454\n",
      "Epoch 06/50 Batch 0700/937, Loss  135.9753\n",
      "Epoch 06/50 Batch 0800/937, Loss  126.2068\n",
      "Epoch 06/50 Batch 0900/937, Loss  122.4294\n",
      "Epoch 06/50 Batch 0937/937, Loss  136.7155\n",
      "Epoch 07/50 Batch 0000/937, Loss  134.4974\n",
      "Epoch 07/50 Batch 0100/937, Loss  129.0394\n",
      "Epoch 07/50 Batch 0200/937, Loss  131.2958\n",
      "Epoch 07/50 Batch 0300/937, Loss  133.5982\n",
      "Epoch 07/50 Batch 0400/937, Loss  124.6588\n",
      "Epoch 07/50 Batch 0500/937, Loss  130.4345\n",
      "Epoch 07/50 Batch 0600/937, Loss  132.8799\n",
      "Epoch 07/50 Batch 0700/937, Loss  134.7805\n",
      "Epoch 07/50 Batch 0800/937, Loss  129.1759\n",
      "Epoch 07/50 Batch 0900/937, Loss  137.1767\n",
      "Epoch 07/50 Batch 0937/937, Loss  141.1306\n",
      "Epoch 08/50 Batch 0000/937, Loss  129.5079\n",
      "Epoch 08/50 Batch 0100/937, Loss  120.6927\n",
      "Epoch 08/50 Batch 0200/937, Loss  134.4914\n",
      "Epoch 08/50 Batch 0300/937, Loss  136.5684\n",
      "Epoch 08/50 Batch 0400/937, Loss  133.7068\n",
      "Epoch 08/50 Batch 0500/937, Loss  129.3307\n",
      "Epoch 08/50 Batch 0600/937, Loss  144.0616\n",
      "Epoch 08/50 Batch 0700/937, Loss  135.5394\n",
      "Epoch 08/50 Batch 0800/937, Loss  125.3665\n",
      "Epoch 08/50 Batch 0900/937, Loss  129.4010\n",
      "Epoch 08/50 Batch 0937/937, Loss  125.9432\n",
      "Epoch 09/50 Batch 0000/937, Loss  128.5894\n",
      "Epoch 09/50 Batch 0100/937, Loss  132.2543\n",
      "Epoch 09/50 Batch 0200/937, Loss  143.0764\n",
      "Epoch 09/50 Batch 0300/937, Loss  138.9419\n",
      "Epoch 09/50 Batch 0400/937, Loss  129.3253\n",
      "Epoch 09/50 Batch 0500/937, Loss  133.8990\n",
      "Epoch 09/50 Batch 0600/937, Loss  139.6036\n",
      "Epoch 09/50 Batch 0700/937, Loss  142.6808\n",
      "Epoch 09/50 Batch 0800/937, Loss  120.9573\n",
      "Epoch 09/50 Batch 0900/937, Loss  128.9150\n",
      "Epoch 09/50 Batch 0937/937, Loss  141.4108\n",
      "Epoch 10/50 Batch 0000/937, Loss  125.7447\n",
      "Epoch 10/50 Batch 0100/937, Loss  134.7007\n",
      "Epoch 10/50 Batch 0200/937, Loss  129.9644\n",
      "Epoch 10/50 Batch 0300/937, Loss  123.2098\n",
      "Epoch 10/50 Batch 0400/937, Loss  125.6761\n",
      "Epoch 10/50 Batch 0500/937, Loss  129.8218\n",
      "Epoch 10/50 Batch 0600/937, Loss  131.9920\n",
      "Epoch 10/50 Batch 0700/937, Loss  134.0338\n",
      "Epoch 10/50 Batch 0800/937, Loss  137.6684\n",
      "Epoch 10/50 Batch 0900/937, Loss  133.8721\n",
      "Epoch 10/50 Batch 0937/937, Loss  120.6445\n",
      "Epoch 11/50 Batch 0000/937, Loss  120.1273\n",
      "Epoch 11/50 Batch 0100/937, Loss  134.1886\n",
      "Epoch 11/50 Batch 0200/937, Loss  129.5025\n",
      "Epoch 11/50 Batch 0300/937, Loss  138.3366\n",
      "Epoch 11/50 Batch 0400/937, Loss  127.6551\n",
      "Epoch 11/50 Batch 0500/937, Loss  134.0509\n",
      "Epoch 11/50 Batch 0600/937, Loss  126.9445\n",
      "Epoch 11/50 Batch 0700/937, Loss  129.8125\n",
      "Epoch 11/50 Batch 0800/937, Loss  134.6939\n",
      "Epoch 11/50 Batch 0900/937, Loss  128.5522\n",
      "Epoch 11/50 Batch 0937/937, Loss  128.7473\n",
      "Epoch 12/50 Batch 0000/937, Loss  133.0121\n",
      "Epoch 12/50 Batch 0100/937, Loss  127.9444\n",
      "Epoch 12/50 Batch 0200/937, Loss  132.9570\n",
      "Epoch 12/50 Batch 0300/937, Loss  119.6872\n",
      "Epoch 12/50 Batch 0400/937, Loss  135.5333\n",
      "Epoch 12/50 Batch 0500/937, Loss  132.6260\n",
      "Epoch 12/50 Batch 0600/937, Loss  131.4730\n",
      "Epoch 12/50 Batch 0700/937, Loss  135.9077\n",
      "Epoch 12/50 Batch 0800/937, Loss  129.5290\n",
      "Epoch 12/50 Batch 0900/937, Loss  118.9309\n",
      "Epoch 12/50 Batch 0937/937, Loss  126.3456\n",
      "Epoch 13/50 Batch 0000/937, Loss  130.5279\n",
      "Epoch 13/50 Batch 0100/937, Loss  130.0693\n",
      "Epoch 13/50 Batch 0200/937, Loss  135.7666\n",
      "Epoch 13/50 Batch 0300/937, Loss  127.3386\n",
      "Epoch 13/50 Batch 0400/937, Loss  143.1974\n",
      "Epoch 13/50 Batch 0500/937, Loss  124.5089\n",
      "Epoch 13/50 Batch 0600/937, Loss  127.6925\n",
      "Epoch 13/50 Batch 0700/937, Loss  129.1086\n",
      "Epoch 13/50 Batch 0800/937, Loss  129.8128\n",
      "Epoch 13/50 Batch 0900/937, Loss  122.4480\n",
      "Epoch 13/50 Batch 0937/937, Loss  136.5263\n",
      "Epoch 14/50 Batch 0000/937, Loss  129.1556\n",
      "Epoch 14/50 Batch 0100/937, Loss  127.7341\n",
      "Epoch 14/50 Batch 0200/937, Loss  131.3290\n",
      "Epoch 14/50 Batch 0300/937, Loss  126.3018\n",
      "Epoch 14/50 Batch 0400/937, Loss  131.8114\n",
      "Epoch 14/50 Batch 0500/937, Loss  117.3341\n",
      "Epoch 14/50 Batch 0600/937, Loss  127.0389\n",
      "Epoch 14/50 Batch 0700/937, Loss  133.9574\n",
      "Epoch 14/50 Batch 0800/937, Loss  133.8081\n",
      "Epoch 14/50 Batch 0900/937, Loss  134.0024\n",
      "Epoch 14/50 Batch 0937/937, Loss  128.0700\n",
      "Epoch 15/50 Batch 0000/937, Loss  125.7923\n",
      "Epoch 15/50 Batch 0100/937, Loss  131.8804\n",
      "Epoch 15/50 Batch 0200/937, Loss  135.0405\n",
      "Epoch 15/50 Batch 0300/937, Loss  128.0668\n",
      "Epoch 15/50 Batch 0400/937, Loss  134.2079\n",
      "Epoch 15/50 Batch 0500/937, Loss  126.4823\n",
      "Epoch 15/50 Batch 0600/937, Loss  126.7696\n",
      "Epoch 15/50 Batch 0700/937, Loss  126.1685\n",
      "Epoch 15/50 Batch 0800/937, Loss  124.7795\n",
      "Epoch 15/50 Batch 0900/937, Loss  130.1092\n",
      "Epoch 15/50 Batch 0937/937, Loss  110.9402\n",
      "Epoch 16/50 Batch 0000/937, Loss  132.8795\n",
      "Epoch 16/50 Batch 0100/937, Loss  126.2772\n",
      "Epoch 16/50 Batch 0200/937, Loss  133.5363\n",
      "Epoch 16/50 Batch 0300/937, Loss  124.2179\n",
      "Epoch 16/50 Batch 0400/937, Loss  127.4528\n",
      "Epoch 16/50 Batch 0500/937, Loss  125.8488\n",
      "Epoch 16/50 Batch 0600/937, Loss  119.9121\n",
      "Epoch 16/50 Batch 0700/937, Loss  131.4213\n",
      "Epoch 16/50 Batch 0800/937, Loss  125.5465\n",
      "Epoch 16/50 Batch 0900/937, Loss  126.3717\n",
      "Epoch 16/50 Batch 0937/937, Loss  140.0399\n",
      "Epoch 17/50 Batch 0000/937, Loss  130.0577\n",
      "Epoch 17/50 Batch 0100/937, Loss  134.0324\n",
      "Epoch 17/50 Batch 0200/937, Loss  130.8182\n",
      "Epoch 17/50 Batch 0300/937, Loss  122.2543\n",
      "Epoch 17/50 Batch 0400/937, Loss  119.6407\n",
      "Epoch 17/50 Batch 0500/937, Loss  133.8271\n",
      "Epoch 17/50 Batch 0600/937, Loss  141.6690\n",
      "Epoch 17/50 Batch 0700/937, Loss  137.0878\n",
      "Epoch 17/50 Batch 0800/937, Loss  121.7742\n",
      "Epoch 17/50 Batch 0900/937, Loss  127.2015\n",
      "Epoch 17/50 Batch 0937/937, Loss  126.6459\n",
      "Epoch 18/50 Batch 0000/937, Loss  129.5030\n",
      "Epoch 18/50 Batch 0100/937, Loss  132.8415\n",
      "Epoch 18/50 Batch 0200/937, Loss  124.1378\n",
      "Epoch 18/50 Batch 0300/937, Loss  116.6636\n",
      "Epoch 18/50 Batch 0400/937, Loss  128.2371\n",
      "Epoch 18/50 Batch 0500/937, Loss  134.6027\n",
      "Epoch 18/50 Batch 0600/937, Loss  126.6578\n",
      "Epoch 18/50 Batch 0700/937, Loss  129.1590\n",
      "Epoch 18/50 Batch 0800/937, Loss  121.1220\n",
      "Epoch 18/50 Batch 0900/937, Loss  127.1117\n",
      "Epoch 18/50 Batch 0937/937, Loss  134.5438\n",
      "Epoch 19/50 Batch 0000/937, Loss  126.1083\n",
      "Epoch 19/50 Batch 0100/937, Loss  127.9934\n",
      "Epoch 19/50 Batch 0200/937, Loss  135.0784\n",
      "Epoch 19/50 Batch 0300/937, Loss  131.3136\n",
      "Epoch 19/50 Batch 0400/937, Loss  131.3111\n",
      "Epoch 19/50 Batch 0500/937, Loss  135.0768\n",
      "Epoch 19/50 Batch 0600/937, Loss  127.6975\n",
      "Epoch 19/50 Batch 0700/937, Loss  129.0694\n",
      "Epoch 19/50 Batch 0800/937, Loss  124.4295\n",
      "Epoch 19/50 Batch 0900/937, Loss  133.0861\n",
      "Epoch 19/50 Batch 0937/937, Loss  137.3790\n",
      "Epoch 20/50 Batch 0000/937, Loss  129.8407\n",
      "Epoch 20/50 Batch 0100/937, Loss  128.5854\n",
      "Epoch 20/50 Batch 0200/937, Loss  120.9040\n",
      "Epoch 20/50 Batch 0300/937, Loss  124.1647\n",
      "Epoch 20/50 Batch 0400/937, Loss  127.9413\n",
      "Epoch 20/50 Batch 0500/937, Loss  124.6257\n",
      "Epoch 20/50 Batch 0600/937, Loss  134.3908\n",
      "Epoch 20/50 Batch 0700/937, Loss  136.4336\n",
      "Epoch 20/50 Batch 0800/937, Loss  128.8325\n",
      "Epoch 20/50 Batch 0900/937, Loss  134.3958\n",
      "Epoch 20/50 Batch 0937/937, Loss  115.8882\n",
      "Epoch 21/50 Batch 0000/937, Loss  129.5757\n",
      "Epoch 21/50 Batch 0100/937, Loss  122.3755\n",
      "Epoch 21/50 Batch 0200/937, Loss  125.5022\n",
      "Epoch 21/50 Batch 0300/937, Loss  135.3927\n",
      "Epoch 21/50 Batch 0400/937, Loss  128.0125\n",
      "Epoch 21/50 Batch 0500/937, Loss  129.3043\n",
      "Epoch 21/50 Batch 0600/937, Loss  122.9084\n",
      "Epoch 21/50 Batch 0700/937, Loss  129.6027\n",
      "Epoch 21/50 Batch 0800/937, Loss  138.9876\n",
      "Epoch 21/50 Batch 0900/937, Loss  121.7781\n",
      "Epoch 21/50 Batch 0937/937, Loss  117.5914\n",
      "Epoch 22/50 Batch 0000/937, Loss  119.9471\n",
      "Epoch 22/50 Batch 0100/937, Loss  121.0913\n",
      "Epoch 22/50 Batch 0200/937, Loss  133.3989\n",
      "Epoch 22/50 Batch 0300/937, Loss  130.8617\n",
      "Epoch 22/50 Batch 0400/937, Loss  127.3380\n",
      "Epoch 22/50 Batch 0500/937, Loss  140.1994\n",
      "Epoch 22/50 Batch 0600/937, Loss  131.4864\n",
      "Epoch 22/50 Batch 0700/937, Loss  128.2692\n",
      "Epoch 22/50 Batch 0800/937, Loss  131.1046\n",
      "Epoch 22/50 Batch 0900/937, Loss  134.6378\n",
      "Epoch 22/50 Batch 0937/937, Loss  124.4337\n",
      "Epoch 23/50 Batch 0000/937, Loss  123.9364\n",
      "Epoch 23/50 Batch 0100/937, Loss  134.9189\n",
      "Epoch 23/50 Batch 0200/937, Loss  131.3021\n",
      "Epoch 23/50 Batch 0300/937, Loss  126.0155\n",
      "Epoch 23/50 Batch 0400/937, Loss  121.9371\n",
      "Epoch 23/50 Batch 0500/937, Loss  132.0294\n",
      "Epoch 23/50 Batch 0600/937, Loss  126.5209\n",
      "Epoch 23/50 Batch 0700/937, Loss  132.6415\n",
      "Epoch 23/50 Batch 0800/937, Loss  131.6022\n",
      "Epoch 23/50 Batch 0900/937, Loss  124.4598\n",
      "Epoch 23/50 Batch 0937/937, Loss  129.2352\n",
      "Epoch 24/50 Batch 0000/937, Loss  119.9367\n",
      "Epoch 24/50 Batch 0100/937, Loss  127.2587\n",
      "Epoch 24/50 Batch 0200/937, Loss  133.9178\n",
      "Epoch 24/50 Batch 0300/937, Loss  129.3137\n",
      "Epoch 24/50 Batch 0400/937, Loss  124.8959\n",
      "Epoch 24/50 Batch 0500/937, Loss  125.2517\n",
      "Epoch 24/50 Batch 0600/937, Loss  133.2950\n",
      "Epoch 24/50 Batch 0700/937, Loss  137.7171\n",
      "Epoch 24/50 Batch 0800/937, Loss  120.5718\n",
      "Epoch 24/50 Batch 0900/937, Loss  126.4021\n",
      "Epoch 24/50 Batch 0937/937, Loss  124.2979\n",
      "Epoch 25/50 Batch 0000/937, Loss  142.2507\n",
      "Epoch 25/50 Batch 0100/937, Loss  128.4888\n",
      "Epoch 25/50 Batch 0200/937, Loss  132.4040\n",
      "Epoch 25/50 Batch 0300/937, Loss  134.0709\n",
      "Epoch 25/50 Batch 0400/937, Loss  123.7290\n",
      "Epoch 25/50 Batch 0500/937, Loss  125.6440\n",
      "Epoch 25/50 Batch 0600/937, Loss  133.3215\n",
      "Epoch 25/50 Batch 0700/937, Loss  118.5686\n",
      "Epoch 25/50 Batch 0800/937, Loss  129.6353\n",
      "Epoch 25/50 Batch 0900/937, Loss  123.5166\n",
      "Epoch 25/50 Batch 0937/937, Loss  122.4601\n",
      "Epoch 26/50 Batch 0000/937, Loss  133.4774\n",
      "Epoch 26/50 Batch 0100/937, Loss  136.8966\n",
      "Epoch 26/50 Batch 0200/937, Loss  135.4797\n",
      "Epoch 26/50 Batch 0300/937, Loss  121.6302\n",
      "Epoch 26/50 Batch 0400/937, Loss  119.2793\n",
      "Epoch 26/50 Batch 0500/937, Loss  131.3496\n",
      "Epoch 26/50 Batch 0600/937, Loss  126.7517\n",
      "Epoch 26/50 Batch 0700/937, Loss  126.5456\n",
      "Epoch 26/50 Batch 0800/937, Loss  124.3803\n",
      "Epoch 26/50 Batch 0900/937, Loss  125.3835\n",
      "Epoch 26/50 Batch 0937/937, Loss  126.9286\n",
      "Epoch 27/50 Batch 0000/937, Loss  117.3494\n",
      "Epoch 27/50 Batch 0100/937, Loss  116.7590\n",
      "Epoch 27/50 Batch 0200/937, Loss  132.2710\n",
      "Epoch 27/50 Batch 0300/937, Loss  141.8650\n",
      "Epoch 27/50 Batch 0400/937, Loss  126.0822\n",
      "Epoch 27/50 Batch 0500/937, Loss  127.3857\n",
      "Epoch 27/50 Batch 0600/937, Loss  125.7273\n",
      "Epoch 27/50 Batch 0700/937, Loss  127.6920\n",
      "Epoch 27/50 Batch 0800/937, Loss  140.3207\n",
      "Epoch 27/50 Batch 0900/937, Loss  122.5882\n",
      "Epoch 27/50 Batch 0937/937, Loss  144.2052\n",
      "Epoch 28/50 Batch 0000/937, Loss  129.1230\n",
      "Epoch 28/50 Batch 0100/937, Loss  131.7221\n",
      "Epoch 28/50 Batch 0200/937, Loss  132.1801\n",
      "Epoch 28/50 Batch 0300/937, Loss  133.9242\n",
      "Epoch 28/50 Batch 0400/937, Loss  134.6158\n",
      "Epoch 28/50 Batch 0500/937, Loss  133.0533\n",
      "Epoch 28/50 Batch 0600/937, Loss  132.5395\n",
      "Epoch 28/50 Batch 0700/937, Loss  115.9330\n",
      "Epoch 28/50 Batch 0800/937, Loss  126.1398\n",
      "Epoch 28/50 Batch 0900/937, Loss  127.0596\n",
      "Epoch 28/50 Batch 0937/937, Loss  131.1726\n",
      "Epoch 29/50 Batch 0000/937, Loss  120.9594\n",
      "Epoch 29/50 Batch 0100/937, Loss  133.2175\n",
      "Epoch 29/50 Batch 0200/937, Loss  133.2787\n",
      "Epoch 29/50 Batch 0300/937, Loss  128.7035\n",
      "Epoch 29/50 Batch 0400/937, Loss  128.5007\n",
      "Epoch 29/50 Batch 0500/937, Loss  123.2834\n",
      "Epoch 29/50 Batch 0600/937, Loss  127.2818\n",
      "Epoch 29/50 Batch 0700/937, Loss  129.4830\n",
      "Epoch 29/50 Batch 0800/937, Loss  129.8443\n",
      "Epoch 29/50 Batch 0900/937, Loss  128.1750\n",
      "Epoch 29/50 Batch 0937/937, Loss  128.8055\n",
      "Epoch 30/50 Batch 0000/937, Loss  120.1123\n",
      "Epoch 30/50 Batch 0100/937, Loss  122.2187\n",
      "Epoch 30/50 Batch 0200/937, Loss  137.6165\n",
      "Epoch 30/50 Batch 0300/937, Loss  128.5367\n",
      "Epoch 30/50 Batch 0400/937, Loss  131.0798\n",
      "Epoch 30/50 Batch 0500/937, Loss  127.4415\n",
      "Epoch 30/50 Batch 0600/937, Loss  130.4330\n",
      "Epoch 30/50 Batch 0700/937, Loss  116.3668\n",
      "Epoch 30/50 Batch 0800/937, Loss  122.1637\n",
      "Epoch 30/50 Batch 0900/937, Loss  124.7249\n",
      "Epoch 30/50 Batch 0937/937, Loss  135.1759\n",
      "Epoch 31/50 Batch 0000/937, Loss  126.3710\n",
      "Epoch 31/50 Batch 0100/937, Loss  124.0431\n",
      "Epoch 31/50 Batch 0200/937, Loss  130.6796\n",
      "Epoch 31/50 Batch 0300/937, Loss  124.7513\n",
      "Epoch 31/50 Batch 0400/937, Loss  130.8124\n",
      "Epoch 31/50 Batch 0500/937, Loss  121.9412\n",
      "Epoch 31/50 Batch 0600/937, Loss  126.3196\n",
      "Epoch 31/50 Batch 0700/937, Loss  126.5121\n",
      "Epoch 31/50 Batch 0800/937, Loss  137.1580\n",
      "Epoch 31/50 Batch 0900/937, Loss  122.9553\n",
      "Epoch 31/50 Batch 0937/937, Loss  128.7589\n",
      "Epoch 32/50 Batch 0000/937, Loss  136.0922\n",
      "Epoch 32/50 Batch 0100/937, Loss  122.3214\n",
      "Epoch 32/50 Batch 0200/937, Loss  132.1084\n",
      "Epoch 32/50 Batch 0300/937, Loss  131.4998\n",
      "Epoch 32/50 Batch 0400/937, Loss  124.6595\n",
      "Epoch 32/50 Batch 0500/937, Loss  122.4553\n",
      "Epoch 32/50 Batch 0600/937, Loss  132.8376\n",
      "Epoch 32/50 Batch 0700/937, Loss  132.6523\n",
      "Epoch 32/50 Batch 0800/937, Loss  140.1567\n",
      "Epoch 32/50 Batch 0900/937, Loss  132.5042\n",
      "Epoch 32/50 Batch 0937/937, Loss  124.4665\n",
      "Epoch 33/50 Batch 0000/937, Loss  128.6380\n",
      "Epoch 33/50 Batch 0100/937, Loss  127.7065\n",
      "Epoch 33/50 Batch 0200/937, Loss  121.1557\n",
      "Epoch 33/50 Batch 0300/937, Loss  141.5168\n",
      "Epoch 33/50 Batch 0400/937, Loss  128.9754\n",
      "Epoch 33/50 Batch 0500/937, Loss  130.8135\n",
      "Epoch 33/50 Batch 0600/937, Loss  126.5464\n",
      "Epoch 33/50 Batch 0700/937, Loss  123.0216\n",
      "Epoch 33/50 Batch 0800/937, Loss  117.6129\n",
      "Epoch 33/50 Batch 0900/937, Loss  132.1809\n",
      "Epoch 33/50 Batch 0937/937, Loss  136.8477\n",
      "Epoch 34/50 Batch 0000/937, Loss  134.8769\n",
      "Epoch 34/50 Batch 0100/937, Loss  120.6276\n",
      "Epoch 34/50 Batch 0200/937, Loss  125.3387\n",
      "Epoch 34/50 Batch 0300/937, Loss  135.7810\n",
      "Epoch 34/50 Batch 0400/937, Loss  132.2267\n",
      "Epoch 34/50 Batch 0500/937, Loss  128.9129\n",
      "Epoch 34/50 Batch 0600/937, Loss  129.6830\n",
      "Epoch 34/50 Batch 0700/937, Loss  133.2542\n",
      "Epoch 34/50 Batch 0800/937, Loss  130.2633\n",
      "Epoch 34/50 Batch 0900/937, Loss  126.5139\n",
      "Epoch 34/50 Batch 0937/937, Loss  111.9384\n",
      "Epoch 35/50 Batch 0000/937, Loss  121.4673\n",
      "Epoch 35/50 Batch 0100/937, Loss  126.9817\n",
      "Epoch 35/50 Batch 0200/937, Loss  121.8884\n",
      "Epoch 35/50 Batch 0300/937, Loss  121.6178\n",
      "Epoch 35/50 Batch 0400/937, Loss  132.7829\n",
      "Epoch 35/50 Batch 0500/937, Loss  125.8736\n",
      "Epoch 35/50 Batch 0600/937, Loss  126.7695\n",
      "Epoch 35/50 Batch 0700/937, Loss  128.2945\n",
      "Epoch 35/50 Batch 0800/937, Loss  128.3065\n",
      "Epoch 35/50 Batch 0900/937, Loss  129.0865\n",
      "Epoch 35/50 Batch 0937/937, Loss  119.6452\n",
      "Epoch 36/50 Batch 0000/937, Loss  114.9773\n",
      "Epoch 36/50 Batch 0100/937, Loss  123.7346\n",
      "Epoch 36/50 Batch 0200/937, Loss  131.7113\n",
      "Epoch 36/50 Batch 0300/937, Loss  131.0672\n",
      "Epoch 36/50 Batch 0400/937, Loss  130.2778\n",
      "Epoch 36/50 Batch 0500/937, Loss  131.3162\n",
      "Epoch 36/50 Batch 0600/937, Loss  125.4334\n",
      "Epoch 36/50 Batch 0700/937, Loss  121.8926\n",
      "Epoch 36/50 Batch 0800/937, Loss  114.9061\n",
      "Epoch 36/50 Batch 0900/937, Loss  123.4157\n",
      "Epoch 36/50 Batch 0937/937, Loss  123.3626\n",
      "Epoch 37/50 Batch 0000/937, Loss  129.5262\n",
      "Epoch 37/50 Batch 0100/937, Loss  130.4794\n",
      "Epoch 37/50 Batch 0200/937, Loss  123.8237\n",
      "Epoch 37/50 Batch 0300/937, Loss  130.6015\n",
      "Epoch 37/50 Batch 0400/937, Loss  127.8055\n",
      "Epoch 37/50 Batch 0500/937, Loss  122.4702\n",
      "Epoch 37/50 Batch 0600/937, Loss  121.9297\n",
      "Epoch 37/50 Batch 0700/937, Loss  122.7017\n",
      "Epoch 37/50 Batch 0800/937, Loss  129.3505\n",
      "Epoch 37/50 Batch 0900/937, Loss  132.7668\n",
      "Epoch 37/50 Batch 0937/937, Loss  130.3875\n",
      "Epoch 38/50 Batch 0000/937, Loss  127.6178\n",
      "Epoch 38/50 Batch 0100/937, Loss  113.1506\n",
      "Epoch 38/50 Batch 0200/937, Loss  124.0988\n",
      "Epoch 38/50 Batch 0300/937, Loss  129.3044\n",
      "Epoch 38/50 Batch 0400/937, Loss  124.9799\n",
      "Epoch 38/50 Batch 0500/937, Loss  126.9725\n",
      "Epoch 38/50 Batch 0600/937, Loss  117.5469\n",
      "Epoch 38/50 Batch 0700/937, Loss  130.0408\n",
      "Epoch 38/50 Batch 0800/937, Loss  133.0929\n",
      "Epoch 38/50 Batch 0900/937, Loss  134.1534\n",
      "Epoch 38/50 Batch 0937/937, Loss  120.0347\n",
      "Epoch 39/50 Batch 0000/937, Loss  118.8384\n",
      "Epoch 39/50 Batch 0100/937, Loss  126.2136\n",
      "Epoch 39/50 Batch 0200/937, Loss  127.1075\n",
      "Epoch 39/50 Batch 0300/937, Loss  123.9885\n",
      "Epoch 39/50 Batch 0400/937, Loss  125.9800\n",
      "Epoch 39/50 Batch 0500/937, Loss  134.7939\n",
      "Epoch 39/50 Batch 0600/937, Loss  120.0504\n",
      "Epoch 39/50 Batch 0700/937, Loss  126.9628\n",
      "Epoch 39/50 Batch 0800/937, Loss  125.6455\n",
      "Epoch 39/50 Batch 0900/937, Loss  121.0218\n",
      "Epoch 39/50 Batch 0937/937, Loss  116.4157\n",
      "Epoch 40/50 Batch 0000/937, Loss  119.3728\n",
      "Epoch 40/50 Batch 0100/937, Loss  130.7313\n",
      "Epoch 40/50 Batch 0200/937, Loss  126.1257\n",
      "Epoch 40/50 Batch 0300/937, Loss  125.9904\n",
      "Epoch 40/50 Batch 0400/937, Loss  119.4821\n",
      "Epoch 40/50 Batch 0500/937, Loss  136.8039\n",
      "Epoch 40/50 Batch 0600/937, Loss  121.9604\n",
      "Epoch 40/50 Batch 0700/937, Loss  123.2030\n",
      "Epoch 40/50 Batch 0800/937, Loss  136.6314\n",
      "Epoch 40/50 Batch 0900/937, Loss  131.1248\n",
      "Epoch 40/50 Batch 0937/937, Loss  114.0172\n",
      "Epoch 41/50 Batch 0000/937, Loss  126.1786\n",
      "Epoch 41/50 Batch 0100/937, Loss  116.8847\n",
      "Epoch 41/50 Batch 0200/937, Loss  128.0472\n",
      "Epoch 41/50 Batch 0300/937, Loss  122.6750\n",
      "Epoch 41/50 Batch 0400/937, Loss  129.6474\n",
      "Epoch 41/50 Batch 0500/937, Loss  131.7129\n",
      "Epoch 41/50 Batch 0600/937, Loss  140.0371\n",
      "Epoch 41/50 Batch 0700/937, Loss  123.3357\n",
      "Epoch 41/50 Batch 0800/937, Loss  120.8491\n",
      "Epoch 41/50 Batch 0900/937, Loss  121.0127\n",
      "Epoch 41/50 Batch 0937/937, Loss  128.0876\n",
      "Epoch 42/50 Batch 0000/937, Loss  120.8875\n",
      "Epoch 42/50 Batch 0100/937, Loss  122.9756\n",
      "Epoch 42/50 Batch 0200/937, Loss  129.6147\n",
      "Epoch 42/50 Batch 0300/937, Loss  125.9637\n",
      "Epoch 42/50 Batch 0400/937, Loss  119.1111\n",
      "Epoch 42/50 Batch 0500/937, Loss  126.4803\n",
      "Epoch 42/50 Batch 0600/937, Loss  128.4388\n",
      "Epoch 42/50 Batch 0700/937, Loss  125.5252\n",
      "Epoch 42/50 Batch 0800/937, Loss  122.7457\n",
      "Epoch 42/50 Batch 0900/937, Loss  128.6263\n",
      "Epoch 42/50 Batch 0937/937, Loss  128.1771\n",
      "Epoch 43/50 Batch 0000/937, Loss  124.9061\n",
      "Epoch 43/50 Batch 0100/937, Loss  123.3969\n",
      "Epoch 43/50 Batch 0200/937, Loss  121.5653\n",
      "Epoch 43/50 Batch 0300/937, Loss  121.9430\n",
      "Epoch 43/50 Batch 0400/937, Loss  123.8816\n",
      "Epoch 43/50 Batch 0500/937, Loss  113.8506\n",
      "Epoch 43/50 Batch 0600/937, Loss  130.2870\n",
      "Epoch 43/50 Batch 0700/937, Loss  119.8211\n",
      "Epoch 43/50 Batch 0800/937, Loss  131.0116\n",
      "Epoch 43/50 Batch 0900/937, Loss  126.4413\n",
      "Epoch 43/50 Batch 0937/937, Loss  119.1222\n",
      "Epoch 44/50 Batch 0000/937, Loss  125.1704\n",
      "Epoch 44/50 Batch 0100/937, Loss  123.0311\n",
      "Epoch 44/50 Batch 0200/937, Loss  125.3436\n",
      "Epoch 44/50 Batch 0300/937, Loss  127.5741\n",
      "Epoch 44/50 Batch 0400/937, Loss  128.2293\n",
      "Epoch 44/50 Batch 0500/937, Loss  126.4280\n",
      "Epoch 44/50 Batch 0600/937, Loss  129.7783\n",
      "Epoch 44/50 Batch 0700/937, Loss  132.1083\n",
      "Epoch 44/50 Batch 0800/937, Loss  120.8377\n",
      "Epoch 44/50 Batch 0900/937, Loss  129.5391\n",
      "Epoch 44/50 Batch 0937/937, Loss  138.4233\n",
      "Epoch 45/50 Batch 0000/937, Loss  115.0913\n",
      "Epoch 45/50 Batch 0100/937, Loss  122.8645\n",
      "Epoch 45/50 Batch 0200/937, Loss  123.4097\n",
      "Epoch 45/50 Batch 0300/937, Loss  119.4022\n",
      "Epoch 45/50 Batch 0400/937, Loss  134.6857\n",
      "Epoch 45/50 Batch 0500/937, Loss  120.4295\n",
      "Epoch 45/50 Batch 0600/937, Loss  122.1627\n",
      "Epoch 45/50 Batch 0700/937, Loss  121.5259\n",
      "Epoch 45/50 Batch 0800/937, Loss  122.1357\n",
      "Epoch 45/50 Batch 0900/937, Loss  121.7088\n",
      "Epoch 45/50 Batch 0937/937, Loss  116.6134\n",
      "Epoch 46/50 Batch 0000/937, Loss  129.6741\n",
      "Epoch 46/50 Batch 0100/937, Loss  137.5100\n",
      "Epoch 46/50 Batch 0200/937, Loss  143.5428\n",
      "Epoch 46/50 Batch 0300/937, Loss  124.5729\n",
      "Epoch 46/50 Batch 0400/937, Loss  126.1001\n",
      "Epoch 46/50 Batch 0500/937, Loss  126.2572\n",
      "Epoch 46/50 Batch 0600/937, Loss  121.9657\n",
      "Epoch 46/50 Batch 0700/937, Loss  126.4582\n",
      "Epoch 46/50 Batch 0800/937, Loss  122.9574\n",
      "Epoch 46/50 Batch 0900/937, Loss  138.3328\n",
      "Epoch 46/50 Batch 0937/937, Loss  127.5507\n",
      "Epoch 47/50 Batch 0000/937, Loss  121.7760\n",
      "Epoch 47/50 Batch 0100/937, Loss  133.5150\n",
      "Epoch 47/50 Batch 0200/937, Loss  120.4096\n",
      "Epoch 47/50 Batch 0300/937, Loss  124.0701\n",
      "Epoch 47/50 Batch 0400/937, Loss  125.3677\n",
      "Epoch 47/50 Batch 0500/937, Loss  122.6661\n",
      "Epoch 47/50 Batch 0600/937, Loss  127.5069\n",
      "Epoch 47/50 Batch 0700/937, Loss  126.5919\n",
      "Epoch 47/50 Batch 0800/937, Loss  129.9636\n",
      "Epoch 47/50 Batch 0900/937, Loss  128.3133\n",
      "Epoch 47/50 Batch 0937/937, Loss  123.9747\n",
      "Epoch 48/50 Batch 0000/937, Loss  126.3796\n",
      "Epoch 48/50 Batch 0100/937, Loss  128.6410\n",
      "Epoch 48/50 Batch 0200/937, Loss  116.9050\n",
      "Epoch 48/50 Batch 0300/937, Loss  132.6269\n",
      "Epoch 48/50 Batch 0400/937, Loss  133.7102\n",
      "Epoch 48/50 Batch 0500/937, Loss  127.8150\n",
      "Epoch 48/50 Batch 0600/937, Loss  124.7985\n",
      "Epoch 48/50 Batch 0700/937, Loss  127.0301\n",
      "Epoch 48/50 Batch 0800/937, Loss  133.8072\n",
      "Epoch 48/50 Batch 0900/937, Loss  134.4703\n",
      "Epoch 48/50 Batch 0937/937, Loss  115.8907\n",
      "Epoch 49/50 Batch 0000/937, Loss  121.1929\n",
      "Epoch 49/50 Batch 0100/937, Loss  126.4698\n",
      "Epoch 49/50 Batch 0200/937, Loss  131.0801\n",
      "Epoch 49/50 Batch 0300/937, Loss  129.7934\n",
      "Epoch 49/50 Batch 0400/937, Loss  124.9054\n",
      "Epoch 49/50 Batch 0500/937, Loss  134.1668\n",
      "Epoch 49/50 Batch 0600/937, Loss  121.2241\n",
      "Epoch 49/50 Batch 0700/937, Loss  122.4949\n",
      "Epoch 49/50 Batch 0800/937, Loss  134.0340\n",
      "Epoch 49/50 Batch 0900/937, Loss  120.7743\n",
      "Epoch 49/50 Batch 0937/937, Loss  129.5209\n"
     ]
    }
   ],
   "source": [
    "# Training CVAE.\n",
    "clog = train_VAE(cvae, device, data_loader)"
   ]
  },
  {
   "cell_type": "code",
   "execution_count": 0,
   "metadata": {
    "colab": {},
    "colab_type": "code",
    "id": "l0q_72fgtFvr"
   },
   "outputs": [],
   "source": [
    "# Creating 10 images, 1 for every label, by sampling and decoding.\n",
    "c = torch.arange(0, 10).long().unsqueeze(1)\n",
    "x = cvae.inference(batch_size=c.size(0), cond=c)"
   ]
  },
  {
   "cell_type": "code",
   "execution_count": 12,
   "metadata": {
    "colab": {
     "base_uri": "https://localhost:8080/",
     "height": 286
    },
    "colab_type": "code",
    "id": "4J65O320sLFM",
    "outputId": "a70145dd-3c13-4dd1-fbbe-be2133969556"
   },
   "outputs": [
    {
     "data": {
      "text/plain": [
       "<matplotlib.image.AxesImage at 0x7f821b27dc50>"
      ]
     },
     "execution_count": 12,
     "metadata": {
      "tags": []
     },
     "output_type": "execute_result"
    },
    {
     "data": {
      "image/png": "[encoded data removed]",
      "text/plain": [
       "<Figure size 432x288 with 1 Axes>"
      ]
     },
     "metadata": {
      "tags": []
     },
     "output_type": "display_data"
    }
   ],
   "source": [
    "# 0 is OK.\n",
    "plt.imshow(x[0].view(28, 28).data.numpy())"
   ]
  },
  {
   "cell_type": "code",
   "execution_count": 13,
   "metadata": {
    "colab": {
     "base_uri": "https://localhost:8080/",
     "height": 286
    },
    "colab_type": "code",
    "id": "3qjq6lgmsLOP",
    "outputId": "da90c457-9cf7-471b-b3a6-62847334628f"
   },
   "outputs": [
    {
     "data": {
      "text/plain": [
       "<matplotlib.image.AxesImage at 0x7f821b2d8e80>"
      ]
     },
     "execution_count": 13,
     "metadata": {
      "tags": []
     },
     "output_type": "execute_result"
    },
    {
     "data": {
      "image/png": "[encoded data removed]",
      "text/plain": [
       "<Figure size 432x288 with 1 Axes>"
      ]
     },
     "metadata": {
      "tags": []
     },
     "output_type": "display_data"
    }
   ],
   "source": [
    "# 1 is OK.\n",
    "plt.imshow(x[1].view(28, 28).data.numpy())"
   ]
  },
  {
   "cell_type": "code",
   "execution_count": 14,
   "metadata": {
    "colab": {
     "base_uri": "https://localhost:8080/",
     "height": 286
    },
    "colab_type": "code",
    "id": "9Cjr_WWI4J3S",
    "outputId": "a3360268-9d55-4ca5-ceaa-f1db37d5f86c"
   },
   "outputs": [
    {
     "data": {
      "text/plain": [
       "<matplotlib.image.AxesImage at 0x7f821c46df98>"
      ]
     },
     "execution_count": 14,
     "metadata": {
      "tags": []
     },
     "output_type": "execute_result"
    },
    {
     "data": {
      "image/png": "[encoded data removed]",
      "text/plain": [
       "<Figure size 432x288 with 1 Axes>"
      ]
     },
     "metadata": {
      "tags": []
     },
     "output_type": "display_data"
    }
   ],
   "source": [
    "# 2 is OK.\n",
    "plt.imshow(x[2].view(28, 28).data.numpy())"
   ]
  },
  {
   "cell_type": "code",
   "execution_count": 15,
   "metadata": {
    "colab": {
     "base_uri": "https://localhost:8080/",
     "height": 286
    },
    "colab_type": "code",
    "id": "gMdbYheu4LV6",
    "outputId": "d0cd43e2-2702-421a-e4be-c8f4615bfb06"
   },
   "outputs": [
    {
     "data": {
      "text/plain": [
       "<matplotlib.image.AxesImage at 0x7f821b324c18>"
      ]
     },
     "execution_count": 15,
     "metadata": {
      "tags": []
     },
     "output_type": "execute_result"
    },
    {
     "data": {
      "image/png": "[encoded data removed]",
      "text/plain": [
       "<Figure size 432x288 with 1 Axes>"
      ]
     },
     "metadata": {
      "tags": []
     },
     "output_type": "display_data"
    }
   ],
   "source": [
    "# 3 is OK.\n",
    "plt.imshow(x[3].view(28, 28).data.numpy())"
   ]
  },
  {
   "cell_type": "code",
   "execution_count": 16,
   "metadata": {
    "colab": {
     "base_uri": "https://localhost:8080/",
     "height": 286
    },
    "colab_type": "code",
    "id": "xMjaaOhM4PA5",
    "outputId": "e230dbae-9add-4f19-9e9b-1f2f5770f578"
   },
   "outputs": [
    {
     "data": {
      "text/plain": [
       "<matplotlib.image.AxesImage at 0x7f821c555da0>"
      ]
     },
     "execution_count": 16,
     "metadata": {
      "tags": []
     },
     "output_type": "execute_result"
    },
    {
     "data": {
      "image/png": "[encoded data removed]",
      "text/plain": [
       "<Figure size 432x288 with 1 Axes>"
      ]
     },
     "metadata": {
      "tags": []
     },
     "output_type": "display_data"
    }
   ],
   "source": [
    "# 4 is OK.\n",
    "plt.imshow(x[4].view(28, 28).data.numpy())"
   ]
  },
  {
   "cell_type": "code",
   "execution_count": 17,
   "metadata": {
    "colab": {
     "base_uri": "https://localhost:8080/",
     "height": 286
    },
    "colab_type": "code",
    "id": "kBb4YjCd4RWa",
    "outputId": "19761d9d-f2c2-4d7f-aedb-b26aeede28e8"
   },
   "outputs": [
    {
     "data": {
      "text/plain": [
       "<matplotlib.image.AxesImage at 0x7f82189999e8>"
      ]
     },
     "execution_count": 17,
     "metadata": {
      "tags": []
     },
     "output_type": "execute_result"
    },
    {
     "data": {
      "image/png": "[encoded data removed]",
      "text/plain": [
       "<Figure size 432x288 with 1 Axes>"
      ]
     },
     "metadata": {
      "tags": []
     },
     "output_type": "display_data"
    }
   ],
   "source": [
    "# 5 is OK.\n",
    "plt.imshow(x[5].view(28, 28).data.numpy())"
   ]
  },
  {
   "cell_type": "code",
   "execution_count": 18,
   "metadata": {
    "colab": {
     "base_uri": "https://localhost:8080/",
     "height": 286
    },
    "colab_type": "code",
    "id": "N9xSZXTt4TrX",
    "outputId": "d3ad30de-d456-4052-b0b1-91fc84e3168b"
   },
   "outputs": [
    {
     "data": {
      "text/plain": [
       "<matplotlib.image.AxesImage at 0x7f82189735c0>"
      ]
     },
     "execution_count": 18,
     "metadata": {
      "tags": []
     },
     "output_type": "execute_result"
    },
    {
     "data": {
      "image/png": "[encoded data removed]",
      "text/plain": [
       "<Figure size 432x288 with 1 Axes>"
      ]
     },
     "metadata": {
      "tags": []
     },
     "output_type": "display_data"
    }
   ],
   "source": [
    "# 6 is OK.\n",
    "plt.imshow(x[6].view(28, 28).data.numpy())"
   ]
  },
  {
   "cell_type": "code",
   "execution_count": 19,
   "metadata": {
    "colab": {
     "base_uri": "https://localhost:8080/",
     "height": 286
    },
    "colab_type": "code",
    "id": "eLc5G3Sr4Wys",
    "outputId": "73a0a4f2-ddd6-4fdb-fdbd-3b04c9fb75ab"
   },
   "outputs": [
    {
     "data": {
      "text/plain": [
       "<matplotlib.image.AxesImage at 0x7f821894e1d0>"
      ]
     },
     "execution_count": 19,
     "metadata": {
      "tags": []
     },
     "output_type": "execute_result"
    },
    {
     "data": {
      "image/png": "[encoded data removed]",
      "text/plain": [
       "<Figure size 432x288 with 1 Axes>"
      ]
     },
     "metadata": {
      "tags": []
     },
     "output_type": "display_data"
    }
   ],
   "source": [
    "# 7 is OK.\n",
    "plt.imshow(x[7].view(28, 28).data.numpy())"
   ]
  },
  {
   "cell_type": "code",
   "execution_count": 20,
   "metadata": {
    "colab": {
     "base_uri": "https://localhost:8080/",
     "height": 286
    },
    "colab_type": "code",
    "id": "9KDFhSNz4YqG",
    "outputId": "69b35569-3f35-41cb-a742-76e3f37219d1"
   },
   "outputs": [
    {
     "data": {
      "text/plain": [
       "<matplotlib.image.AxesImage at 0x7f82188a0da0>"
      ]
     },
     "execution_count": 20,
     "metadata": {
      "tags": []
     },
     "output_type": "execute_result"
    },
    {
     "data": {
      "image/png": "[encoded data removed]",
      "text/plain": [
       "<Figure size 432x288 with 1 Axes>"
      ]
     },
     "metadata": {
      "tags": []
     },
     "output_type": "display_data"
    }
   ],
   "source": [
    "# 8 is OK.\n",
    "plt.imshow(x[8].view(28, 28).data.numpy())"
   ]
  },
  {
   "cell_type": "code",
   "execution_count": 21,
   "metadata": {
    "colab": {
     "base_uri": "https://localhost:8080/",
     "height": 286
    },
    "colab_type": "code",
    "id": "BiPdQLqY4Z8V",
    "outputId": "05609213-ed27-490a-8faf-4300e3d94467"
   },
   "outputs": [
    {
     "data": {
      "text/plain": [
       "<matplotlib.image.AxesImage at 0x7f821887c9b0>"
      ]
     },
     "execution_count": 21,
     "metadata": {
      "tags": []
     },
     "output_type": "execute_result"
    },
    {
     "data": {
      "image/png": "[encoded data removed]",
      "text/plain": [
       "<Figure size 432x288 with 1 Axes>"
      ]
     },
     "metadata": {
      "tags": []
     },
     "output_type": "display_data"
    }
   ],
   "source": [
    "# 9 is OK.\n",
    "plt.imshow(x[9].view(28, 28).data.numpy())"
   ]
  },
  {
   "cell_type": "markdown",
   "metadata": {},
   "source": [
    "All digits are readable; loss decreases."
   ]
  },
  {
   "cell_type": "code",
   "execution_count": 0,
   "metadata": {
    "colab": {},
    "colab_type": "code",
    "id": "5zpcy0mu8YjF"
   },
   "outputs": [],
   "source": [
    "# Creating simple VAE.\n",
    "vae = VAE(\n",
    "        encoder_layer_sizes=[784, 256, 64],\n",
    "        latent_size=2,\n",
    "        decoder_layer_sizes=[64, 256, 784],\n",
    "        conditional=False).to(device)"
   ]
  },
  {
   "cell_type": "code",
   "execution_count": 24,
   "metadata": {
    "colab": {
     "base_uri": "https://localhost:8080/",
     "height": 1000
    },
    "colab_type": "code",
    "id": "d710LcJw8jwO",
    "outputId": "0cbf0d7b-ff55-4c74-aa17-2dff18ab623b"
   },
   "outputs": [
    {
     "name": "stdout",
     "output_type": "stream",
     "text": [
      "Epoch 00/50 Batch 0000/937, Loss  542.9379\n",
      "Epoch 00/50 Batch 0100/937, Loss  205.9868\n",
      "Epoch 00/50 Batch 0200/937, Loss  194.4642\n",
      "Epoch 00/50 Batch 0300/937, Loss  181.5301\n",
      "Epoch 00/50 Batch 0400/937, Loss  182.1706\n",
      "Epoch 00/50 Batch 0500/937, Loss  173.9577\n",
      "Epoch 00/50 Batch 0600/937, Loss  173.7157\n",
      "Epoch 00/50 Batch 0700/937, Loss  168.6598\n",
      "Epoch 00/50 Batch 0800/937, Loss  161.3143\n",
      "Epoch 00/50 Batch 0900/937, Loss  166.1620\n",
      "Epoch 00/50 Batch 0937/937, Loss  170.2426\n",
      "Epoch 01/50 Batch 0000/937, Loss  161.7330\n",
      "Epoch 01/50 Batch 0100/937, Loss  164.7715\n",
      "Epoch 01/50 Batch 0200/937, Loss  165.8620\n",
      "Epoch 01/50 Batch 0300/937, Loss  169.8395\n",
      "Epoch 01/50 Batch 0400/937, Loss  159.7900\n",
      "Epoch 01/50 Batch 0500/937, Loss  162.8530\n",
      "Epoch 01/50 Batch 0600/937, Loss  153.0321\n",
      "Epoch 01/50 Batch 0700/937, Loss  148.8375\n",
      "Epoch 01/50 Batch 0800/937, Loss  156.0901\n",
      "Epoch 01/50 Batch 0900/937, Loss  150.6448\n",
      "Epoch 01/50 Batch 0937/937, Loss  162.8499\n",
      "Epoch 02/50 Batch 0000/937, Loss  160.2934\n",
      "Epoch 02/50 Batch 0100/937, Loss  149.6017\n",
      "Epoch 02/50 Batch 0200/937, Loss  156.0017\n",
      "Epoch 02/50 Batch 0300/937, Loss  161.1172\n",
      "Epoch 02/50 Batch 0400/937, Loss  156.8151\n",
      "Epoch 02/50 Batch 0500/937, Loss  151.4467\n",
      "Epoch 02/50 Batch 0600/937, Loss  154.7112\n",
      "Epoch 02/50 Batch 0700/937, Loss  156.2638\n",
      "Epoch 02/50 Batch 0800/937, Loss  152.5300\n",
      "Epoch 02/50 Batch 0900/937, Loss  159.2691\n",
      "Epoch 02/50 Batch 0937/937, Loss  158.6153\n",
      "Epoch 03/50 Batch 0000/937, Loss  159.9053\n",
      "Epoch 03/50 Batch 0100/937, Loss  161.0014\n",
      "Epoch 03/50 Batch 0200/937, Loss  165.6888\n",
      "Epoch 03/50 Batch 0300/937, Loss  149.1701\n",
      "Epoch 03/50 Batch 0400/937, Loss  144.9530\n",
      "Epoch 03/50 Batch 0500/937, Loss  160.5694\n",
      "Epoch 03/50 Batch 0600/937, Loss  145.0186\n",
      "Epoch 03/50 Batch 0700/937, Loss  146.9731\n",
      "Epoch 03/50 Batch 0800/937, Loss  155.5232\n",
      "Epoch 03/50 Batch 0900/937, Loss  156.4210\n",
      "Epoch 03/50 Batch 0937/937, Loss  155.7351\n",
      "Epoch 04/50 Batch 0000/937, Loss  153.3554\n",
      "Epoch 04/50 Batch 0100/937, Loss  145.0263\n",
      "Epoch 04/50 Batch 0200/937, Loss  141.9725\n",
      "Epoch 04/50 Batch 0300/937, Loss  146.4942\n",
      "Epoch 04/50 Batch 0400/937, Loss  157.9461\n",
      "Epoch 04/50 Batch 0500/937, Loss  148.2653\n",
      "Epoch 04/50 Batch 0600/937, Loss  150.8885\n",
      "Epoch 04/50 Batch 0700/937, Loss  146.0447\n",
      "Epoch 04/50 Batch 0800/937, Loss  143.4206\n",
      "Epoch 04/50 Batch 0900/937, Loss  147.3943\n",
      "Epoch 04/50 Batch 0937/937, Loss  165.8821\n",
      "Epoch 05/50 Batch 0000/937, Loss  145.7775\n",
      "Epoch 05/50 Batch 0100/937, Loss  156.0013\n",
      "Epoch 05/50 Batch 0200/937, Loss  150.8813\n",
      "Epoch 05/50 Batch 0300/937, Loss  155.2263\n",
      "Epoch 05/50 Batch 0400/937, Loss  143.8854\n",
      "Epoch 05/50 Batch 0500/937, Loss  128.8126\n",
      "Epoch 05/50 Batch 0600/937, Loss  147.2819\n",
      "Epoch 05/50 Batch 0700/937, Loss  143.5431\n",
      "Epoch 05/50 Batch 0800/937, Loss  149.0148\n",
      "Epoch 05/50 Batch 0900/937, Loss  147.6932\n",
      "Epoch 05/50 Batch 0937/937, Loss  144.8732\n",
      "Epoch 06/50 Batch 0000/937, Loss  153.5721\n",
      "Epoch 06/50 Batch 0100/937, Loss  142.0758\n",
      "Epoch 06/50 Batch 0200/937, Loss  153.6332\n",
      "Epoch 06/50 Batch 0300/937, Loss  147.1773\n",
      "Epoch 06/50 Batch 0400/937, Loss  151.9840\n",
      "Epoch 06/50 Batch 0500/937, Loss  148.8932\n",
      "Epoch 06/50 Batch 0600/937, Loss  143.4179\n",
      "Epoch 06/50 Batch 0700/937, Loss  151.9518\n",
      "Epoch 06/50 Batch 0800/937, Loss  148.9643\n",
      "Epoch 06/50 Batch 0900/937, Loss  156.2072\n",
      "Epoch 06/50 Batch 0937/937, Loss  145.9988\n",
      "Epoch 07/50 Batch 0000/937, Loss  140.5526\n",
      "Epoch 07/50 Batch 0100/937, Loss  143.2282\n",
      "Epoch 07/50 Batch 0200/937, Loss  162.9442\n",
      "Epoch 07/50 Batch 0300/937, Loss  146.8082\n",
      "Epoch 07/50 Batch 0400/937, Loss  145.3161\n",
      "Epoch 07/50 Batch 0500/937, Loss  147.6779\n",
      "Epoch 07/50 Batch 0600/937, Loss  141.9375\n",
      "Epoch 07/50 Batch 0700/937, Loss  147.6869\n",
      "Epoch 07/50 Batch 0800/937, Loss  145.0876\n",
      "Epoch 07/50 Batch 0900/937, Loss  149.9440\n",
      "Epoch 07/50 Batch 0937/937, Loss  136.1730\n",
      "Epoch 08/50 Batch 0000/937, Loss  149.6325\n",
      "Epoch 08/50 Batch 0100/937, Loss  143.2568\n",
      "Epoch 08/50 Batch 0200/937, Loss  152.0357\n",
      "Epoch 08/50 Batch 0300/937, Loss  146.4203\n",
      "Epoch 08/50 Batch 0400/937, Loss  146.8783\n",
      "Epoch 08/50 Batch 0500/937, Loss  138.2912\n",
      "Epoch 08/50 Batch 0600/937, Loss  138.3990\n",
      "Epoch 08/50 Batch 0700/937, Loss  137.6880\n",
      "Epoch 08/50 Batch 0800/937, Loss  148.7979\n",
      "Epoch 08/50 Batch 0900/937, Loss  148.1553\n",
      "Epoch 08/50 Batch 0937/937, Loss  151.3680\n",
      "Epoch 09/50 Batch 0000/937, Loss  153.0177\n",
      "Epoch 09/50 Batch 0100/937, Loss  149.2020\n",
      "Epoch 09/50 Batch 0200/937, Loss  149.3350\n",
      "Epoch 09/50 Batch 0300/937, Loss  148.4160\n",
      "Epoch 09/50 Batch 0400/937, Loss  148.0417\n",
      "Epoch 09/50 Batch 0500/937, Loss  149.8219\n",
      "Epoch 09/50 Batch 0600/937, Loss  148.0878\n",
      "Epoch 09/50 Batch 0700/937, Loss  141.1232\n",
      "Epoch 09/50 Batch 0800/937, Loss  147.6229\n",
      "Epoch 09/50 Batch 0900/937, Loss  141.8599\n",
      "Epoch 09/50 Batch 0937/937, Loss  131.1410\n",
      "Epoch 10/50 Batch 0000/937, Loss  144.5073\n",
      "Epoch 10/50 Batch 0100/937, Loss  148.8456\n",
      "Epoch 10/50 Batch 0200/937, Loss  152.3232\n",
      "Epoch 10/50 Batch 0300/937, Loss  150.1523\n",
      "Epoch 10/50 Batch 0400/937, Loss  144.3376\n",
      "Epoch 10/50 Batch 0500/937, Loss  150.5429\n",
      "Epoch 10/50 Batch 0600/937, Loss  152.0982\n",
      "Epoch 10/50 Batch 0700/937, Loss  148.9458\n",
      "Epoch 10/50 Batch 0800/937, Loss  142.6395\n",
      "Epoch 10/50 Batch 0900/937, Loss  144.3187\n",
      "Epoch 10/50 Batch 0937/937, Loss  134.9963\n",
      "Epoch 11/50 Batch 0000/937, Loss  136.6896\n",
      "Epoch 11/50 Batch 0100/937, Loss  141.6397\n",
      "Epoch 11/50 Batch 0200/937, Loss  137.2395\n",
      "Epoch 11/50 Batch 0300/937, Loss  152.6031\n",
      "Epoch 11/50 Batch 0400/937, Loss  145.4861\n",
      "Epoch 11/50 Batch 0500/937, Loss  134.8982\n",
      "Epoch 11/50 Batch 0600/937, Loss  138.9762\n",
      "Epoch 11/50 Batch 0700/937, Loss  147.9979\n",
      "Epoch 11/50 Batch 0800/937, Loss  144.8726\n",
      "Epoch 11/50 Batch 0900/937, Loss  127.8073\n",
      "Epoch 11/50 Batch 0937/937, Loss  142.2636\n",
      "Epoch 12/50 Batch 0000/937, Loss  147.2199\n",
      "Epoch 12/50 Batch 0100/937, Loss  142.4441\n",
      "Epoch 12/50 Batch 0200/937, Loss  150.2648\n",
      "Epoch 12/50 Batch 0300/937, Loss  153.0069\n",
      "Epoch 12/50 Batch 0400/937, Loss  150.4700\n",
      "Epoch 12/50 Batch 0500/937, Loss  129.4530\n",
      "Epoch 12/50 Batch 0600/937, Loss  139.3926\n",
      "Epoch 12/50 Batch 0700/937, Loss  129.5419\n",
      "Epoch 12/50 Batch 0800/937, Loss  133.6529\n",
      "Epoch 12/50 Batch 0900/937, Loss  146.4354\n",
      "Epoch 12/50 Batch 0937/937, Loss  136.0319\n",
      "Epoch 13/50 Batch 0000/937, Loss  140.5032\n",
      "Epoch 13/50 Batch 0100/937, Loss  151.9636\n",
      "Epoch 13/50 Batch 0200/937, Loss  138.0467\n",
      "Epoch 13/50 Batch 0300/937, Loss  146.0375\n",
      "Epoch 13/50 Batch 0400/937, Loss  137.6562\n",
      "Epoch 13/50 Batch 0500/937, Loss  155.2577\n",
      "Epoch 13/50 Batch 0600/937, Loss  148.3483\n",
      "Epoch 13/50 Batch 0700/937, Loss  138.4255\n",
      "Epoch 13/50 Batch 0800/937, Loss  151.4062\n",
      "Epoch 13/50 Batch 0900/937, Loss  143.6466\n",
      "Epoch 13/50 Batch 0937/937, Loss  145.4189\n",
      "Epoch 14/50 Batch 0000/937, Loss  144.4266\n",
      "Epoch 14/50 Batch 0100/937, Loss  148.4413\n",
      "Epoch 14/50 Batch 0200/937, Loss  153.1353\n",
      "Epoch 14/50 Batch 0300/937, Loss  145.6816\n",
      "Epoch 14/50 Batch 0400/937, Loss  138.3411\n",
      "Epoch 14/50 Batch 0500/937, Loss  152.6985\n",
      "Epoch 14/50 Batch 0600/937, Loss  135.9278\n",
      "Epoch 14/50 Batch 0700/937, Loss  151.4165\n",
      "Epoch 14/50 Batch 0800/937, Loss  139.7242\n",
      "Epoch 14/50 Batch 0900/937, Loss  145.9761\n",
      "Epoch 14/50 Batch 0937/937, Loss  143.6367\n",
      "Epoch 15/50 Batch 0000/937, Loss  146.7027\n",
      "Epoch 15/50 Batch 0100/937, Loss  154.6496\n",
      "Epoch 15/50 Batch 0200/937, Loss  153.6915\n",
      "Epoch 15/50 Batch 0300/937, Loss  139.4202\n",
      "Epoch 15/50 Batch 0400/937, Loss  137.0797\n",
      "Epoch 15/50 Batch 0500/937, Loss  138.8561\n",
      "Epoch 15/50 Batch 0600/937, Loss  139.6617\n",
      "Epoch 15/50 Batch 0700/937, Loss  155.4338\n",
      "Epoch 15/50 Batch 0800/937, Loss  150.3233\n",
      "Epoch 15/50 Batch 0900/937, Loss  147.1111\n",
      "Epoch 15/50 Batch 0937/937, Loss  151.8471\n",
      "Epoch 16/50 Batch 0000/937, Loss  132.7924\n",
      "Epoch 16/50 Batch 0100/937, Loss  148.0173\n",
      "Epoch 16/50 Batch 0200/937, Loss  135.1639\n",
      "Epoch 16/50 Batch 0300/937, Loss  145.9381\n",
      "Epoch 16/50 Batch 0400/937, Loss  145.4277\n",
      "Epoch 16/50 Batch 0500/937, Loss  138.4397\n",
      "Epoch 16/50 Batch 0600/937, Loss  151.5772\n",
      "Epoch 16/50 Batch 0700/937, Loss  141.6502\n",
      "Epoch 16/50 Batch 0800/937, Loss  147.7146\n",
      "Epoch 16/50 Batch 0900/937, Loss  128.9010\n",
      "Epoch 16/50 Batch 0937/937, Loss  158.2070\n",
      "Epoch 17/50 Batch 0000/937, Loss  137.6807\n",
      "Epoch 17/50 Batch 0100/937, Loss  145.5908\n",
      "Epoch 17/50 Batch 0200/937, Loss  133.8846\n",
      "Epoch 17/50 Batch 0300/937, Loss  137.7606\n",
      "Epoch 17/50 Batch 0400/937, Loss  137.8662\n",
      "Epoch 17/50 Batch 0500/937, Loss  145.6970\n",
      "Epoch 17/50 Batch 0600/937, Loss  138.1336\n",
      "Epoch 17/50 Batch 0700/937, Loss  142.0060\n",
      "Epoch 17/50 Batch 0800/937, Loss  142.6893\n",
      "Epoch 17/50 Batch 0900/937, Loss  135.0765\n",
      "Epoch 17/50 Batch 0937/937, Loss  153.3591\n",
      "Epoch 18/50 Batch 0000/937, Loss  143.4430\n",
      "Epoch 18/50 Batch 0100/937, Loss  144.0449\n",
      "Epoch 18/50 Batch 0200/937, Loss  145.0811\n",
      "Epoch 18/50 Batch 0300/937, Loss  150.7423\n",
      "Epoch 18/50 Batch 0400/937, Loss  140.8528\n",
      "Epoch 18/50 Batch 0500/937, Loss  136.5182\n",
      "Epoch 18/50 Batch 0600/937, Loss  135.6557\n",
      "Epoch 18/50 Batch 0700/937, Loss  144.7262\n",
      "Epoch 18/50 Batch 0800/937, Loss  155.2527\n",
      "Epoch 18/50 Batch 0900/937, Loss  138.6578\n",
      "Epoch 18/50 Batch 0937/937, Loss  142.9181\n",
      "Epoch 19/50 Batch 0000/937, Loss  133.1154\n",
      "Epoch 19/50 Batch 0100/937, Loss  148.5018\n",
      "Epoch 19/50 Batch 0200/937, Loss  140.7622\n",
      "Epoch 19/50 Batch 0300/937, Loss  136.3177\n",
      "Epoch 19/50 Batch 0400/937, Loss  139.6743\n",
      "Epoch 19/50 Batch 0500/937, Loss  148.1044\n",
      "Epoch 19/50 Batch 0600/937, Loss  135.1303\n",
      "Epoch 19/50 Batch 0700/937, Loss  148.0772\n",
      "Epoch 19/50 Batch 0800/937, Loss  140.2081\n",
      "Epoch 19/50 Batch 0900/937, Loss  135.2023\n",
      "Epoch 19/50 Batch 0937/937, Loss  124.2879\n",
      "Epoch 20/50 Batch 0000/937, Loss  132.8552\n",
      "Epoch 20/50 Batch 0100/937, Loss  130.2518\n",
      "Epoch 20/50 Batch 0200/937, Loss  149.4997\n",
      "Epoch 20/50 Batch 0300/937, Loss  138.2555\n",
      "Epoch 20/50 Batch 0400/937, Loss  139.7543\n",
      "Epoch 20/50 Batch 0500/937, Loss  137.0445\n",
      "Epoch 20/50 Batch 0600/937, Loss  134.9176\n",
      "Epoch 20/50 Batch 0700/937, Loss  147.3646\n",
      "Epoch 20/50 Batch 0800/937, Loss  138.8468\n",
      "Epoch 20/50 Batch 0900/937, Loss  128.3027\n",
      "Epoch 20/50 Batch 0937/937, Loss  129.8277\n",
      "Epoch 21/50 Batch 0000/937, Loss  132.2867\n",
      "Epoch 21/50 Batch 0100/937, Loss  138.2583\n",
      "Epoch 21/50 Batch 0200/937, Loss  145.1853\n",
      "Epoch 21/50 Batch 0300/937, Loss  133.7388\n",
      "Epoch 21/50 Batch 0400/937, Loss  135.6994\n",
      "Epoch 21/50 Batch 0500/937, Loss  140.4386\n",
      "Epoch 21/50 Batch 0600/937, Loss  142.7110\n",
      "Epoch 21/50 Batch 0700/937, Loss  140.8395\n",
      "Epoch 21/50 Batch 0800/937, Loss  145.9484\n",
      "Epoch 21/50 Batch 0900/937, Loss  135.7641\n",
      "Epoch 21/50 Batch 0937/937, Loss  140.4554\n",
      "Epoch 22/50 Batch 0000/937, Loss  141.2336\n",
      "Epoch 22/50 Batch 0100/937, Loss  130.4212\n",
      "Epoch 22/50 Batch 0200/937, Loss  139.8955\n",
      "Epoch 22/50 Batch 0300/937, Loss  159.1263\n",
      "Epoch 22/50 Batch 0400/937, Loss  138.9644\n",
      "Epoch 22/50 Batch 0500/937, Loss  127.5229\n",
      "Epoch 22/50 Batch 0600/937, Loss  140.9578\n",
      "Epoch 22/50 Batch 0700/937, Loss  154.3793\n",
      "Epoch 22/50 Batch 0800/937, Loss  144.8499\n",
      "Epoch 22/50 Batch 0900/937, Loss  150.7309\n",
      "Epoch 22/50 Batch 0937/937, Loss  137.1383\n",
      "Epoch 23/50 Batch 0000/937, Loss  139.4662\n",
      "Epoch 23/50 Batch 0100/937, Loss  140.2917\n",
      "Epoch 23/50 Batch 0200/937, Loss  138.1041\n",
      "Epoch 23/50 Batch 0300/937, Loss  137.2775\n",
      "Epoch 23/50 Batch 0400/937, Loss  137.3256\n",
      "Epoch 23/50 Batch 0500/937, Loss  138.7909\n",
      "Epoch 23/50 Batch 0600/937, Loss  135.9370\n",
      "Epoch 23/50 Batch 0700/937, Loss  136.1040\n",
      "Epoch 23/50 Batch 0800/937, Loss  142.0362\n",
      "Epoch 23/50 Batch 0900/937, Loss  138.1492\n",
      "Epoch 23/50 Batch 0937/937, Loss  144.3822\n",
      "Epoch 24/50 Batch 0000/937, Loss  148.4790\n",
      "Epoch 24/50 Batch 0100/937, Loss  156.0768\n",
      "Epoch 24/50 Batch 0200/937, Loss  140.4910\n",
      "Epoch 24/50 Batch 0300/937, Loss  144.3867\n",
      "Epoch 24/50 Batch 0400/937, Loss  135.8216\n",
      "Epoch 24/50 Batch 0500/937, Loss  141.8650\n",
      "Epoch 24/50 Batch 0600/937, Loss  141.5459\n",
      "Epoch 24/50 Batch 0700/937, Loss  148.2865\n",
      "Epoch 24/50 Batch 0800/937, Loss  152.7833\n",
      "Epoch 24/50 Batch 0900/937, Loss  150.1290\n",
      "Epoch 24/50 Batch 0937/937, Loss  145.1646\n",
      "Epoch 25/50 Batch 0000/937, Loss  136.6964\n",
      "Epoch 25/50 Batch 0100/937, Loss  145.0790\n",
      "Epoch 25/50 Batch 0200/937, Loss  135.8267\n",
      "Epoch 25/50 Batch 0300/937, Loss  135.8988\n",
      "Epoch 25/50 Batch 0400/937, Loss  143.8672\n",
      "Epoch 25/50 Batch 0500/937, Loss  138.1062\n",
      "Epoch 25/50 Batch 0600/937, Loss  140.4640\n",
      "Epoch 25/50 Batch 0700/937, Loss  129.3938\n",
      "Epoch 25/50 Batch 0800/937, Loss  154.6702\n",
      "Epoch 25/50 Batch 0900/937, Loss  139.0368\n",
      "Epoch 25/50 Batch 0937/937, Loss  133.7843\n",
      "Epoch 26/50 Batch 0000/937, Loss  134.0667\n",
      "Epoch 26/50 Batch 0100/937, Loss  142.5636\n",
      "Epoch 26/50 Batch 0200/937, Loss  139.2691\n",
      "Epoch 26/50 Batch 0300/937, Loss  145.7609\n",
      "Epoch 26/50 Batch 0400/937, Loss  141.0097\n",
      "Epoch 26/50 Batch 0500/937, Loss  147.1619\n",
      "Epoch 26/50 Batch 0600/937, Loss  140.8421\n",
      "Epoch 26/50 Batch 0700/937, Loss  148.8362\n",
      "Epoch 26/50 Batch 0800/937, Loss  141.6745\n",
      "Epoch 26/50 Batch 0900/937, Loss  140.9496\n",
      "Epoch 26/50 Batch 0937/937, Loss  151.0117\n",
      "Epoch 27/50 Batch 0000/937, Loss  140.6192\n",
      "Epoch 27/50 Batch 0100/937, Loss  143.6105\n",
      "Epoch 27/50 Batch 0200/937, Loss  125.5455\n",
      "Epoch 27/50 Batch 0300/937, Loss  129.8884\n",
      "Epoch 27/50 Batch 0400/937, Loss  140.2860\n",
      "Epoch 27/50 Batch 0500/937, Loss  133.5056\n",
      "Epoch 27/50 Batch 0600/937, Loss  152.4146\n",
      "Epoch 27/50 Batch 0700/937, Loss  135.5015\n",
      "Epoch 27/50 Batch 0800/937, Loss  119.5204\n",
      "Epoch 27/50 Batch 0900/937, Loss  144.4505\n",
      "Epoch 27/50 Batch 0937/937, Loss  153.4895\n",
      "Epoch 28/50 Batch 0000/937, Loss  126.9496\n",
      "Epoch 28/50 Batch 0100/937, Loss  138.7244\n",
      "Epoch 28/50 Batch 0200/937, Loss  133.3150\n",
      "Epoch 28/50 Batch 0300/937, Loss  140.9751\n",
      "Epoch 28/50 Batch 0400/937, Loss  146.7821\n",
      "Epoch 28/50 Batch 0500/937, Loss  148.1196\n",
      "Epoch 28/50 Batch 0600/937, Loss  129.1060\n",
      "Epoch 28/50 Batch 0700/937, Loss  147.5040\n",
      "Epoch 28/50 Batch 0800/937, Loss  136.1891\n",
      "Epoch 28/50 Batch 0900/937, Loss  143.6850\n",
      "Epoch 28/50 Batch 0937/937, Loss  139.2434\n",
      "Epoch 29/50 Batch 0000/937, Loss  134.5199\n",
      "Epoch 29/50 Batch 0100/937, Loss  143.6701\n",
      "Epoch 29/50 Batch 0200/937, Loss  144.1243\n",
      "Epoch 29/50 Batch 0300/937, Loss  129.9665\n",
      "Epoch 29/50 Batch 0400/937, Loss  132.6618\n",
      "Epoch 29/50 Batch 0500/937, Loss  136.5727\n",
      "Epoch 29/50 Batch 0600/937, Loss  136.6556\n",
      "Epoch 29/50 Batch 0700/937, Loss  140.9831\n",
      "Epoch 29/50 Batch 0800/937, Loss  135.7974\n",
      "Epoch 29/50 Batch 0900/937, Loss  143.4530\n",
      "Epoch 29/50 Batch 0937/937, Loss  143.7543\n",
      "Epoch 30/50 Batch 0000/937, Loss  131.5735\n",
      "Epoch 30/50 Batch 0100/937, Loss  132.0871\n",
      "Epoch 30/50 Batch 0200/937, Loss  142.5214\n",
      "Epoch 30/50 Batch 0300/937, Loss  147.3020\n",
      "Epoch 30/50 Batch 0400/937, Loss  148.0872\n",
      "Epoch 30/50 Batch 0500/937, Loss  148.4077\n",
      "Epoch 30/50 Batch 0600/937, Loss  147.2420\n",
      "Epoch 30/50 Batch 0700/937, Loss  140.5515\n",
      "Epoch 30/50 Batch 0800/937, Loss  156.9256\n",
      "Epoch 30/50 Batch 0900/937, Loss  150.8917\n",
      "Epoch 30/50 Batch 0937/937, Loss  136.8205\n",
      "Epoch 31/50 Batch 0000/937, Loss  131.5995\n",
      "Epoch 31/50 Batch 0100/937, Loss  137.1492\n",
      "Epoch 31/50 Batch 0200/937, Loss  137.7451\n",
      "Epoch 31/50 Batch 0300/937, Loss  129.0254\n",
      "Epoch 31/50 Batch 0400/937, Loss  135.4266\n",
      "Epoch 31/50 Batch 0500/937, Loss  148.3423\n",
      "Epoch 31/50 Batch 0600/937, Loss  139.1468\n",
      "Epoch 31/50 Batch 0700/937, Loss  144.4583\n",
      "Epoch 31/50 Batch 0800/937, Loss  147.2052\n",
      "Epoch 31/50 Batch 0900/937, Loss  144.2281\n",
      "Epoch 31/50 Batch 0937/937, Loss  140.5945\n",
      "Epoch 32/50 Batch 0000/937, Loss  145.5562\n",
      "Epoch 32/50 Batch 0100/937, Loss  141.6909\n",
      "Epoch 32/50 Batch 0200/937, Loss  141.7142\n",
      "Epoch 32/50 Batch 0300/937, Loss  142.1000\n",
      "Epoch 32/50 Batch 0400/937, Loss  130.0379\n",
      "Epoch 32/50 Batch 0500/937, Loss  141.2707\n",
      "Epoch 32/50 Batch 0600/937, Loss  131.6335\n",
      "Epoch 32/50 Batch 0700/937, Loss  131.8380\n",
      "Epoch 32/50 Batch 0800/937, Loss  144.6130\n",
      "Epoch 32/50 Batch 0900/937, Loss  145.5033\n",
      "Epoch 32/50 Batch 0937/937, Loss  142.7846\n",
      "Epoch 33/50 Batch 0000/937, Loss  139.2509\n",
      "Epoch 33/50 Batch 0100/937, Loss  130.2982\n",
      "Epoch 33/50 Batch 0200/937, Loss  139.1631\n",
      "Epoch 33/50 Batch 0300/937, Loss  134.6050\n",
      "Epoch 33/50 Batch 0400/937, Loss  143.1066\n",
      "Epoch 33/50 Batch 0500/937, Loss  135.3472\n",
      "Epoch 33/50 Batch 0600/937, Loss  132.7331\n",
      "Epoch 33/50 Batch 0700/937, Loss  144.6348\n",
      "Epoch 33/50 Batch 0800/937, Loss  129.9902\n",
      "Epoch 33/50 Batch 0900/937, Loss  137.2360\n",
      "Epoch 33/50 Batch 0937/937, Loss  160.0412\n",
      "Epoch 34/50 Batch 0000/937, Loss  138.4794\n",
      "Epoch 34/50 Batch 0100/937, Loss  132.7342\n",
      "Epoch 34/50 Batch 0200/937, Loss  144.3516\n",
      "Epoch 34/50 Batch 0300/937, Loss  136.1750\n",
      "Epoch 34/50 Batch 0400/937, Loss  146.8355\n",
      "Epoch 34/50 Batch 0500/937, Loss  132.1556\n",
      "Epoch 34/50 Batch 0600/937, Loss  139.7819\n",
      "Epoch 34/50 Batch 0700/937, Loss  139.5908\n",
      "Epoch 34/50 Batch 0800/937, Loss  137.7775\n",
      "Epoch 34/50 Batch 0900/937, Loss  141.3457\n",
      "Epoch 34/50 Batch 0937/937, Loss  133.7849\n",
      "Epoch 35/50 Batch 0000/937, Loss  143.6617\n",
      "Epoch 35/50 Batch 0100/937, Loss  138.4318\n",
      "Epoch 35/50 Batch 0200/937, Loss  143.3098\n",
      "Epoch 35/50 Batch 0300/937, Loss  144.4227\n",
      "Epoch 35/50 Batch 0400/937, Loss  134.4251\n",
      "Epoch 35/50 Batch 0500/937, Loss  139.2704\n",
      "Epoch 35/50 Batch 0600/937, Loss  135.5907\n",
      "Epoch 35/50 Batch 0700/937, Loss  137.5159\n",
      "Epoch 35/50 Batch 0800/937, Loss  149.5443\n",
      "Epoch 35/50 Batch 0900/937, Loss  138.9814\n",
      "Epoch 35/50 Batch 0937/937, Loss  136.0380\n",
      "Epoch 36/50 Batch 0000/937, Loss  137.0798\n",
      "Epoch 36/50 Batch 0100/937, Loss  144.1636\n",
      "Epoch 36/50 Batch 0200/937, Loss  140.7220\n",
      "Epoch 36/50 Batch 0300/937, Loss  142.7810\n",
      "Epoch 36/50 Batch 0400/937, Loss  136.9454\n",
      "Epoch 36/50 Batch 0500/937, Loss  141.4647\n",
      "Epoch 36/50 Batch 0600/937, Loss  153.2680\n",
      "Epoch 36/50 Batch 0700/937, Loss  147.8301\n",
      "Epoch 36/50 Batch 0800/937, Loss  145.4417\n",
      "Epoch 36/50 Batch 0900/937, Loss  135.9082\n",
      "Epoch 36/50 Batch 0937/937, Loss  147.4313\n",
      "Epoch 37/50 Batch 0000/937, Loss  140.9843\n",
      "Epoch 37/50 Batch 0100/937, Loss  128.1933\n",
      "Epoch 37/50 Batch 0200/937, Loss  149.0700\n",
      "Epoch 37/50 Batch 0300/937, Loss  149.3801\n",
      "Epoch 37/50 Batch 0400/937, Loss  138.7693\n",
      "Epoch 37/50 Batch 0500/937, Loss  142.4125\n",
      "Epoch 37/50 Batch 0600/937, Loss  135.3405\n",
      "Epoch 37/50 Batch 0700/937, Loss  136.6226\n",
      "Epoch 37/50 Batch 0800/937, Loss  132.0889\n",
      "Epoch 37/50 Batch 0900/937, Loss  141.1117\n",
      "Epoch 37/50 Batch 0937/937, Loss  140.6775\n",
      "Epoch 38/50 Batch 0000/937, Loss  142.0016\n",
      "Epoch 38/50 Batch 0100/937, Loss  134.4575\n",
      "Epoch 38/50 Batch 0200/937, Loss  136.9024\n",
      "Epoch 38/50 Batch 0300/937, Loss  128.0088\n",
      "Epoch 38/50 Batch 0400/937, Loss  132.8826\n",
      "Epoch 38/50 Batch 0500/937, Loss  134.4188\n",
      "Epoch 38/50 Batch 0600/937, Loss  140.2294\n",
      "Epoch 38/50 Batch 0700/937, Loss  134.7586\n",
      "Epoch 38/50 Batch 0800/937, Loss  145.2867\n",
      "Epoch 38/50 Batch 0900/937, Loss  143.3978\n",
      "Epoch 38/50 Batch 0937/937, Loss  136.1990\n",
      "Epoch 39/50 Batch 0000/937, Loss  137.5934\n",
      "Epoch 39/50 Batch 0100/937, Loss  133.1983\n",
      "Epoch 39/50 Batch 0200/937, Loss  144.7582\n",
      "Epoch 39/50 Batch 0300/937, Loss  136.9518\n",
      "Epoch 39/50 Batch 0400/937, Loss  138.0849\n",
      "Epoch 39/50 Batch 0500/937, Loss  141.8366\n",
      "Epoch 39/50 Batch 0600/937, Loss  137.2794\n",
      "Epoch 39/50 Batch 0700/937, Loss  146.5410\n",
      "Epoch 39/50 Batch 0800/937, Loss  143.2217\n",
      "Epoch 39/50 Batch 0900/937, Loss  139.5276\n",
      "Epoch 39/50 Batch 0937/937, Loss  140.0842\n",
      "Epoch 40/50 Batch 0000/937, Loss  136.3495\n",
      "Epoch 40/50 Batch 0100/937, Loss  144.7844\n",
      "Epoch 40/50 Batch 0200/937, Loss  140.0538\n",
      "Epoch 40/50 Batch 0300/937, Loss  135.8298\n",
      "Epoch 40/50 Batch 0400/937, Loss  141.8124\n",
      "Epoch 40/50 Batch 0500/937, Loss  125.3678\n",
      "Epoch 40/50 Batch 0600/937, Loss  137.2446\n",
      "Epoch 40/50 Batch 0700/937, Loss  149.3617\n",
      "Epoch 40/50 Batch 0800/937, Loss  137.7497\n",
      "Epoch 40/50 Batch 0900/937, Loss  142.0780\n",
      "Epoch 40/50 Batch 0937/937, Loss  137.8956\n",
      "Epoch 41/50 Batch 0000/937, Loss  142.0001\n",
      "Epoch 41/50 Batch 0100/937, Loss  142.5135\n",
      "Epoch 41/50 Batch 0200/937, Loss  126.5174\n",
      "Epoch 41/50 Batch 0300/937, Loss  140.1355\n",
      "Epoch 41/50 Batch 0400/937, Loss  139.0981\n",
      "Epoch 41/50 Batch 0500/937, Loss  138.7444\n",
      "Epoch 41/50 Batch 0600/937, Loss  138.2341\n",
      "Epoch 41/50 Batch 0700/937, Loss  133.9840\n",
      "Epoch 41/50 Batch 0800/937, Loss  138.1463\n",
      "Epoch 41/50 Batch 0900/937, Loss  141.6011\n",
      "Epoch 41/50 Batch 0937/937, Loss  129.5044\n",
      "Epoch 42/50 Batch 0000/937, Loss  130.2645\n",
      "Epoch 42/50 Batch 0100/937, Loss  141.7420\n",
      "Epoch 42/50 Batch 0200/937, Loss  139.9209\n",
      "Epoch 42/50 Batch 0300/937, Loss  144.7613\n",
      "Epoch 42/50 Batch 0400/937, Loss  140.7795\n",
      "Epoch 42/50 Batch 0500/937, Loss  138.2176\n",
      "Epoch 42/50 Batch 0600/937, Loss  145.5398\n",
      "Epoch 42/50 Batch 0700/937, Loss  134.7591\n",
      "Epoch 42/50 Batch 0800/937, Loss  147.0522\n",
      "Epoch 42/50 Batch 0900/937, Loss  132.9376\n",
      "Epoch 42/50 Batch 0937/937, Loss  134.4432\n",
      "Epoch 43/50 Batch 0000/937, Loss  140.5431\n",
      "Epoch 43/50 Batch 0100/937, Loss  153.3909\n",
      "Epoch 43/50 Batch 0200/937, Loss  131.1357\n",
      "Epoch 43/50 Batch 0300/937, Loss  148.7117\n",
      "Epoch 43/50 Batch 0400/937, Loss  140.3112\n",
      "Epoch 43/50 Batch 0500/937, Loss  138.7981\n",
      "Epoch 43/50 Batch 0600/937, Loss  137.1459\n",
      "Epoch 43/50 Batch 0700/937, Loss  133.4670\n",
      "Epoch 43/50 Batch 0800/937, Loss  132.7663\n",
      "Epoch 43/50 Batch 0900/937, Loss  132.0770\n",
      "Epoch 43/50 Batch 0937/937, Loss  144.7559\n",
      "Epoch 44/50 Batch 0000/937, Loss  138.1400\n",
      "Epoch 44/50 Batch 0100/937, Loss  146.3126\n",
      "Epoch 44/50 Batch 0200/937, Loss  135.4379\n",
      "Epoch 44/50 Batch 0300/937, Loss  144.6667\n",
      "Epoch 44/50 Batch 0400/937, Loss  139.2726\n",
      "Epoch 44/50 Batch 0500/937, Loss  131.2950\n",
      "Epoch 44/50 Batch 0600/937, Loss  134.9621\n",
      "Epoch 44/50 Batch 0700/937, Loss  136.5774\n",
      "Epoch 44/50 Batch 0800/937, Loss  138.3332\n",
      "Epoch 44/50 Batch 0900/937, Loss  133.1281\n",
      "Epoch 44/50 Batch 0937/937, Loss  146.1054\n",
      "Epoch 45/50 Batch 0000/937, Loss  134.4970\n",
      "Epoch 45/50 Batch 0100/937, Loss  139.0652\n",
      "Epoch 45/50 Batch 0200/937, Loss  136.7873\n",
      "Epoch 45/50 Batch 0300/937, Loss  144.3969\n",
      "Epoch 45/50 Batch 0400/937, Loss  136.2238\n",
      "Epoch 45/50 Batch 0500/937, Loss  151.0703\n",
      "Epoch 45/50 Batch 0600/937, Loss  141.5726\n",
      "Epoch 45/50 Batch 0700/937, Loss  136.6213\n",
      "Epoch 45/50 Batch 0800/937, Loss  138.3357\n",
      "Epoch 45/50 Batch 0900/937, Loss  132.1502\n",
      "Epoch 45/50 Batch 0937/937, Loss  139.0809\n",
      "Epoch 46/50 Batch 0000/937, Loss  144.1926\n",
      "Epoch 46/50 Batch 0100/937, Loss  136.1701\n",
      "Epoch 46/50 Batch 0200/937, Loss  150.0164\n",
      "Epoch 46/50 Batch 0300/937, Loss  127.4979\n",
      "Epoch 46/50 Batch 0400/937, Loss  139.8138\n",
      "Epoch 46/50 Batch 0500/937, Loss  139.8531\n",
      "Epoch 46/50 Batch 0600/937, Loss  136.3401\n",
      "Epoch 46/50 Batch 0700/937, Loss  141.8170\n",
      "Epoch 46/50 Batch 0800/937, Loss  135.0831\n",
      "Epoch 46/50 Batch 0900/937, Loss  135.5969\n",
      "Epoch 46/50 Batch 0937/937, Loss  128.3773\n",
      "Epoch 47/50 Batch 0000/937, Loss  125.3127\n",
      "Epoch 47/50 Batch 0100/937, Loss  139.0919\n",
      "Epoch 47/50 Batch 0200/937, Loss  152.6568\n",
      "Epoch 47/50 Batch 0300/937, Loss  134.7556\n",
      "Epoch 47/50 Batch 0400/937, Loss  134.6053\n",
      "Epoch 47/50 Batch 0500/937, Loss  148.5257\n",
      "Epoch 47/50 Batch 0600/937, Loss  127.2313\n",
      "Epoch 47/50 Batch 0700/937, Loss  140.0592\n",
      "Epoch 47/50 Batch 0800/937, Loss  137.5197\n",
      "Epoch 47/50 Batch 0900/937, Loss  131.5549\n",
      "Epoch 47/50 Batch 0937/937, Loss  139.3100\n",
      "Epoch 48/50 Batch 0000/937, Loss  143.5344\n",
      "Epoch 48/50 Batch 0100/937, Loss  131.6885\n",
      "Epoch 48/50 Batch 0200/937, Loss  142.0613\n",
      "Epoch 48/50 Batch 0300/937, Loss  136.9682\n",
      "Epoch 48/50 Batch 0400/937, Loss  131.6056\n",
      "Epoch 48/50 Batch 0500/937, Loss  134.0872\n",
      "Epoch 48/50 Batch 0600/937, Loss  143.2916\n",
      "Epoch 48/50 Batch 0700/937, Loss  133.1939\n",
      "Epoch 48/50 Batch 0800/937, Loss  142.6717\n",
      "Epoch 48/50 Batch 0900/937, Loss  143.0078\n",
      "Epoch 48/50 Batch 0937/937, Loss  145.0081\n",
      "Epoch 49/50 Batch 0000/937, Loss  140.3074\n",
      "Epoch 49/50 Batch 0100/937, Loss  151.1630\n",
      "Epoch 49/50 Batch 0200/937, Loss  145.6545\n",
      "Epoch 49/50 Batch 0300/937, Loss  127.8463\n",
      "Epoch 49/50 Batch 0400/937, Loss  137.5153\n",
      "Epoch 49/50 Batch 0500/937, Loss  136.6431\n",
      "Epoch 49/50 Batch 0600/937, Loss  128.4253\n",
      "Epoch 49/50 Batch 0700/937, Loss  133.4590\n",
      "Epoch 49/50 Batch 0800/937, Loss  136.6879\n",
      "Epoch 49/50 Batch 0900/937, Loss  145.6897\n",
      "Epoch 49/50 Batch 0937/937, Loss  134.2456\n"
     ]
    }
   ],
   "source": [
    "# Training VAE with the same parameters.\n",
    "log = train_VAE(vae, device, data_loader)"
   ]
  },
  {
   "cell_type": "code",
   "execution_count": 0,
   "metadata": {
    "colab": {},
    "colab_type": "code",
    "id": "unzMw64SCd4q"
   },
   "outputs": [],
   "source": [
    "# Sampling 10 images.\n",
    "x = vae.inference(batch_size=c.size(0))"
   ]
  },
  {
   "cell_type": "code",
   "execution_count": 26,
   "metadata": {
    "colab": {
     "base_uri": "https://localhost:8080/",
     "height": 286
    },
    "colab_type": "code",
    "id": "2BWjzpk8ClGU",
    "outputId": "8c856b68-1dcf-4a5b-90ab-910acf541b0c"
   },
   "outputs": [
    {
     "data": {
      "text/plain": [
       "<matplotlib.image.AxesImage at 0x7f8218778438>"
      ]
     },
     "execution_count": 26,
     "metadata": {
      "tags": []
     },
     "output_type": "execute_result"
    },
    {
     "data": {
      "image/png": "[encoded data removed]",
      "text/plain": [
       "<Figure size 432x288 with 1 Axes>"
      ]
     },
     "metadata": {
      "tags": []
     },
     "output_type": "display_data"
    }
   ],
   "source": [
    "# Readable 1.\n",
    "plt.imshow(x[0].view(28, 28).data.numpy())"
   ]
  },
  {
   "cell_type": "code",
   "execution_count": 27,
   "metadata": {
    "colab": {
     "base_uri": "https://localhost:8080/",
     "height": 286
    },
    "colab_type": "code",
    "id": "hE1UK2mpCm55",
    "outputId": "bc3c56f7-fec0-42ef-9ced-ac16d5260a76"
   },
   "outputs": [
    {
     "data": {
      "text/plain": [
       "<matplotlib.image.AxesImage at 0x7f821858d048>"
      ]
     },
     "execution_count": 27,
     "metadata": {
      "tags": []
     },
     "output_type": "execute_result"
    },
    {
     "data": {
      "image/png": "[encoded data removed]",
      "text/plain": [
       "<Figure size 432x288 with 1 Axes>"
      ]
     },
     "metadata": {
      "tags": []
     },
     "output_type": "display_data"
    }
   ],
   "source": [
    "# Readable 1.\n",
    "plt.imshow(x[1].view(28, 28).data.numpy())"
   ]
  },
  {
   "cell_type": "code",
   "execution_count": 28,
   "metadata": {
    "colab": {
     "base_uri": "https://localhost:8080/",
     "height": 286
    },
    "colab_type": "code",
    "id": "6H6o6TeaCpA0",
    "outputId": "9ea2dfcc-4927-458e-f943-8c695f4a949a"
   },
   "outputs": [
    {
     "data": {
      "text/plain": [
       "<matplotlib.image.AxesImage at 0x7f821868dc50>"
      ]
     },
     "execution_count": 28,
     "metadata": {
      "tags": []
     },
     "output_type": "execute_result"
    },
    {
     "data": {
      "image/png": "[encoded data removed]",
      "text/plain": [
       "<Figure size 432x288 with 1 Axes>"
      ]
     },
     "metadata": {
      "tags": []
     },
     "output_type": "display_data"
    }
   ],
   "source": [
    "# Readable 1.\n",
    "plt.imshow(x[2].view(28, 28).data.numpy())"
   ]
  },
  {
   "cell_type": "code",
   "execution_count": 29,
   "metadata": {
    "colab": {
     "base_uri": "https://localhost:8080/",
     "height": 286
    },
    "colab_type": "code",
    "id": "lFSBD46fCr04",
    "outputId": "528d7670-3725-426d-8d52-982a32a6b2c2"
   },
   "outputs": [
    {
     "data": {
      "text/plain": [
       "<matplotlib.image.AxesImage at 0x7f8218653898>"
      ]
     },
     "execution_count": 29,
     "metadata": {
      "tags": []
     },
     "output_type": "execute_result"
    },
    {
     "data": {
      "image/png": "[encoded data removed]",
      "text/plain": [
       "<Figure size 432x288 with 1 Axes>"
      ]
     },
     "metadata": {
      "tags": []
     },
     "output_type": "display_data"
    }
   ],
   "source": [
    "# Unreadable. What is it: 2 or 0?\n",
    "plt.imshow(x[3].view(28, 28).data.numpy())"
   ]
  },
  {
   "cell_type": "code",
   "execution_count": 30,
   "metadata": {
    "colab": {
     "base_uri": "https://localhost:8080/",
     "height": 286
    },
    "colab_type": "code",
    "id": "I2FWipjgCsTt",
    "outputId": "3c479e74-e13d-463e-c3cb-ea63c918882a"
   },
   "outputs": [
    {
     "data": {
      "text/plain": [
       "<matplotlib.image.AxesImage at 0x7f8218741518>"
      ]
     },
     "execution_count": 30,
     "metadata": {
      "tags": []
     },
     "output_type": "execute_result"
    },
    {
     "data": {
      "image/png": "[encoded data removed]",
      "text/plain": [
       "<Figure size 432x288 with 1 Axes>"
      ]
     },
     "metadata": {
      "tags": []
     },
     "output_type": "display_data"
    }
   ],
   "source": [
    "# Readable 6.\n",
    "plt.imshow(x[4].view(28, 28).data.numpy())"
   ]
  },
  {
   "cell_type": "code",
   "execution_count": 31,
   "metadata": {
    "colab": {
     "base_uri": "https://localhost:8080/",
     "height": 286
    },
    "colab_type": "code",
    "id": "Y28S1ZB-Csmr",
    "outputId": "4a7c52cf-9692-4390-954e-4926a2af388e"
   },
   "outputs": [
    {
     "data": {
      "text/plain": [
       "<matplotlib.image.AxesImage at 0x7f82184de160>"
      ]
     },
     "execution_count": 31,
     "metadata": {
      "tags": []
     },
     "output_type": "execute_result"
    },
    {
     "data": {
      "image/png": "[encoded data removed]",
      "text/plain": [
       "<Figure size 432x288 with 1 Axes>"
      ]
     },
     "metadata": {
      "tags": []
     },
     "output_type": "display_data"
    }
   ],
   "source": [
    "# Readable 1.\n",
    "plt.imshow(x[5].view(28, 28).data.numpy())"
   ]
  },
  {
   "cell_type": "code",
   "execution_count": 32,
   "metadata": {
    "colab": {
     "base_uri": "https://localhost:8080/",
     "height": 286
    },
    "colab_type": "code",
    "id": "Y7TkYwQHCs09",
    "outputId": "cb2cab43-cbc3-4b8a-b12b-a7676840df90"
   },
   "outputs": [
    {
     "data": {
      "text/plain": [
       "<matplotlib.image.AxesImage at 0x7f82184aed30>"
      ]
     },
     "execution_count": 32,
     "metadata": {
      "tags": []
     },
     "output_type": "execute_result"
    },
    {
     "data": {
      "image/png": "[encoded data removed]",
      "text/plain": [
       "<Figure size 432x288 with 1 Axes>"
      ]
     },
     "metadata": {
      "tags": []
     },
     "output_type": "display_data"
    }
   ],
   "source": [
    "# Readable 6.\n",
    "plt.imshow(x[6].view(28, 28).data.numpy())"
   ]
  },
  {
   "cell_type": "code",
   "execution_count": 33,
   "metadata": {
    "colab": {
     "base_uri": "https://localhost:8080/",
     "height": 286
    },
    "colab_type": "code",
    "id": "z78k-MwUCsyK",
    "outputId": "fede7bcb-fadf-4188-fc7e-a6f2eac9756b"
   },
   "outputs": [
    {
     "data": {
      "text/plain": [
       "<matplotlib.image.AxesImage at 0x7f8218489978>"
      ]
     },
     "execution_count": 33,
     "metadata": {
      "tags": []
     },
     "output_type": "execute_result"
    },
    {
     "data": {
      "image/png": "[encoded data removed]",
      "text/plain": [
       "<Figure size 432x288 with 1 Axes>"
      ]
     },
     "metadata": {
      "tags": []
     },
     "output_type": "display_data"
    }
   ],
   "source": [
    "# Readable 9.\n",
    "plt.imshow(x[7].view(28, 28).data.numpy())"
   ]
  },
  {
   "cell_type": "code",
   "execution_count": 34,
   "metadata": {
    "colab": {
     "base_uri": "https://localhost:8080/",
     "height": 286
    },
    "colab_type": "code",
    "id": "vjuyV_7OCsuP",
    "outputId": "45068218-e2aa-49f6-a32c-b16d915d5e03"
   },
   "outputs": [
    {
     "data": {
      "text/plain": [
       "<matplotlib.image.AxesImage at 0x7f82183e65c0>"
      ]
     },
     "execution_count": 34,
     "metadata": {
      "tags": []
     },
     "output_type": "execute_result"
    },
    {
     "data": {
      "image/png": "[encoded data removed]",
      "text/plain": [
       "<Figure size 432x288 with 1 Axes>"
      ]
     },
     "metadata": {
      "tags": []
     },
     "output_type": "display_data"
    }
   ],
   "source": [
    "# Readable 4.\n",
    "plt.imshow(x[8].view(28, 28).data.numpy())"
   ]
  },
  {
   "cell_type": "code",
   "execution_count": 35,
   "metadata": {
    "colab": {
     "base_uri": "https://localhost:8080/",
     "height": 286
    },
    "colab_type": "code",
    "id": "NtxlfxblCz5t",
    "outputId": "097b7ba2-bbd7-49fb-9180-e46e04e109b5"
   },
   "outputs": [
    {
     "data": {
      "text/plain": [
       "<matplotlib.image.AxesImage at 0x7f82183c1208>"
      ]
     },
     "execution_count": 35,
     "metadata": {
      "tags": []
     },
     "output_type": "execute_result"
    },
    {
     "data": {
      "image/png": "[encoded data removed]",
      "text/plain": [
       "<Figure size 432x288 with 1 Axes>"
      ]
     },
     "metadata": {
      "tags": []
     },
     "output_type": "display_data"
    }
   ],
   "source": [
    "# Blurry 3.\n",
    "plt.imshow(x[9].view(28, 28).data.numpy())"
   ]
  },
  {
   "cell_type": "markdown",
   "metadata": {},
   "source": [
    "Digits without regularity; some of them are less readable than from CVAE.\n",
    "Loss decreases, but a bit slower."
   ]
  },
  {
   "cell_type": "markdown",
   "metadata": {},
   "source": [
    "#### So, CVAE is better for generating digits than VAE."
   ]
  }
 ],
 "metadata": {
  "colab": {
   "name": "CVAE_VAE.ipynb",
   "provenance": []
  },
  "kernelspec": {
   "display_name": "Python 3",
   "language": "python",
   "name": "python3"
  },
  "language_info": {
   "codemirror_mode": {
    "name": "ipython",
    "version": 3
   },
   "file_extension": ".py",
   "mimetype": "text/x-python",
   "name": "python",
   "nbconvert_exporter": "python",
   "pygments_lexer": "ipython3",
   "version": "3.7.3"
  }
 },
 "nbformat": 4,
 "nbformat_minor": 1
}
