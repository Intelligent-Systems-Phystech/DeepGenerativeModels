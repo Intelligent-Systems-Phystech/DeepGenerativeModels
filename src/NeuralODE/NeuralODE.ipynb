{
 "cells": [
  {
   "cell_type": "code",
   "execution_count": 1,
   "metadata": {
    "collapsed": true
   },
   "outputs": [],
   "source": [
    "import torch\n",
    "import matplotlib.pyplot as plt\n",
    "import numpy as np\n",
    "\n",
    "from torch import nn\n",
    "from torch.optim import SGD\n",
    "from tqdm import tqdm"
   ]
  },
  {
   "cell_type": "code",
   "execution_count": 2,
   "metadata": {
    "collapsed": true
   },
   "outputs": [],
   "source": [
    "from neural_ode_solvers import AdjointODE, AutogradODE\n",
    "from ode_solvers import euler_step"
   ]
  },
  {
   "cell_type": "markdown",
   "metadata": {},
   "source": [
    "We will be inspecting the following ODE in a 2D space: $r''=-r$\n",
    "\n",
    "Let's view it as:\n",
    "$$v'=-r$$\n",
    "$$r'=v$$"
   ]
  },
  {
   "cell_type": "code",
   "execution_count": 3,
   "metadata": {
    "collapsed": true
   },
   "outputs": [],
   "source": [
    "class ODE_equation(nn.Module):\n",
    "    \n",
    "    # A function that returns the right parts of an ode equation\n",
    "    def forward(self, inputs):\n",
    "        \n",
    "        t, state = inputs\n",
    "        r_vec, v_vec = state[:2], state[2:] \n",
    "        \n",
    "        return torch.cat([v_vec, -r_vec])"
   ]
  },
  {
   "cell_type": "code",
   "execution_count": 28,
   "metadata": {
    "collapsed": true
   },
   "outputs": [],
   "source": [
    "num_steps = 500\n",
    "timestamps = np.linspace(0., 10, 101)"
   ]
  },
  {
   "cell_type": "code",
   "execution_count": 4,
   "metadata": {
    "collapsed": true
   },
   "outputs": [],
   "source": [
    "# Initial point of the ODE\n",
    "v0 = torch.Tensor([1., 1.])\n",
    "r0 = torch.Tensor([1., 0.])\n",
    "init_state = torch.cat([r0, v0], 0)"
   ]
  },
  {
   "cell_type": "code",
   "execution_count": 25,
   "metadata": {
    "collapsed": true
   },
   "outputs": [],
   "source": [
    "# Function for plotting the trajectory. Input a dict {label: trajectory}\n",
    "def plot_trajectory(trajectories):\n",
    "    for label in trajectories:\n",
    "        plt.plot(*trajectories[label][:, :2].T, label=label)\n",
    "        \n",
    "    n = trajectory.shape[0]\n",
    "    plt.plot(np.linspace(-2, 2, n), np.zeros(n), 'k-')\n",
    "    plt.plot(np.zeros(n), np.linspace(-2, 2, n), 'k-')\n",
    "    plt.plot(0, 2, 'rx', label='target', lw=20)\n",
    "    plt.xlabel(\"x\")\n",
    "    plt.ylabel(\"y\")\n",
    "    plt.axis(\"equal\")\n",
    "    plt.legend()\n",
    "    plt.show()"
   ]
  },
  {
   "cell_type": "markdown",
   "metadata": {},
   "source": [
    "## 1. Solving the ODE with Euler method"
   ]
  },
  {
   "cell_type": "code",
   "execution_count": 5,
   "metadata": {
    "collapsed": true
   },
   "outputs": [],
   "source": [
    "# Neural ODE solver class with regular backpropogation for optimizing\n",
    "neural_ode = AutogradODE(ode_func=ODE_equation(), timestamps=timestamps, ode_solver=euler_step)"
   ]
  },
  {
   "cell_type": "code",
   "execution_count": 6,
   "metadata": {},
   "outputs": [],
   "source": [
    "# Forward function computes the trajectory using the ode_solver, in our case Euler step\n",
    "states_history = neural_ode.forward(init_state)"
   ]
  },
  {
   "cell_type": "code",
   "execution_count": 7,
   "metadata": {},
   "outputs": [
    {
     "data": {
      "text/plain": [
       "(100, 4)"
      ]
     },
     "execution_count": 7,
     "metadata": {},
     "output_type": "execute_result"
    }
   ],
   "source": [
    "trajectory = np.stack(states_history)\n",
    "trajectory.shape"
   ]
  },
  {
   "cell_type": "code",
   "execution_count": 26,
   "metadata": {},
   "outputs": [
    {
     "data": {
      "image/png": "[encoded data removed]",
      "text/plain": [
       "<Figure size 432x288 with 1 Axes>"
      ]
     },
     "metadata": {},
     "output_type": "display_data"
    }
   ],
   "source": [
    "# Plotting one of solutions of the equation\n",
    "plot_trajectory({\"initial\": trajectory})"
   ]
  },
  {
   "cell_type": "code",
   "execution_count": 29,
   "metadata": {
    "collapsed": true
   },
   "outputs": [],
   "source": [
    "# Fixing the target point of the tragectory. We will be optimizing with regard to this point\n",
    "v1 = torch.Tensor([1., 1.])\n",
    "r1 = torch.Tensor([0., 2.])\n",
    "target_state = torch.cat([r1, v1], 0)"
   ]
  },
  {
   "cell_type": "markdown",
   "metadata": {},
   "source": [
    "## 2. Оптимизируем обычным градиентным спуском"
   ]
  },
  {
   "cell_type": "code",
   "execution_count": 11,
   "metadata": {
    "collapsed": true
   },
   "outputs": [],
   "source": [
    "neural_ode = AutogradODE(ode_func=ODE_equation(), timestamps=timestamps, ode_solver=euler_step)"
   ]
  },
  {
   "cell_type": "code",
   "execution_count": 13,
   "metadata": {
    "collapsed": true
   },
   "outputs": [],
   "source": [
    "optimizer = SGD([v0], lr=.01)"
   ]
  },
  {
   "cell_type": "code",
   "execution_count": 14,
   "metadata": {},
   "outputs": [
    {
     "name": "stderr",
     "output_type": "stream",
     "text": [
      "100%|██████████| 300/300 [00:04<00:00, 70.40it/s]\n"
     ]
    }
   ],
   "source": [
    "loss_history = []\n",
    "for step in tqdm(range(num_steps)):\n",
    "    init_state = torch.cat([r0, v0], 0)\n",
    "    optimizer.zero_grad()\n",
    "    end_state = neural_ode.forward(init_state)[-1]\n",
    "    # Optimizing with regard to r coordinates\n",
    "    loss = torch.sum((end_state[:2] - target_state[:2])**2)  \n",
    "    loss.backward()\n",
    "    optimizer.step()\n",
    "    loss_history.append(loss)"
   ]
  },
  {
   "cell_type": "code",
   "execution_count": 15,
   "metadata": {
    "collapsed": true
   },
   "outputs": [],
   "source": [
    "opt_states_history = neural_ode.forward(init_state)\n",
    "opt_states_history = torch.stack(opt_states_history).detach().numpy()\n",
    "opt_trajectory = np.stack(opt_states_history)"
   ]
  },
  {
   "cell_type": "code",
   "execution_count": 27,
   "metadata": {},
   "outputs": [
    {
     "data": {
      "image/png": "[encoded data removed]",
      "text/plain": [
       "<Figure size 432x288 with 1 Axes>"
      ]
     },
     "metadata": {},
     "output_type": "display_data"
    }
   ],
   "source": [
    "plot_trajectory({\"initial\": trajectory, \"optimized\": opt_trajectory})"
   ]
  },
  {
   "cell_type": "markdown",
   "metadata": {},
   "source": [
    "We have optimized the model with regard to a single train point. This time we used backpropogation with regular gradient calculation."
   ]
  },
  {
   "cell_type": "markdown",
   "metadata": {},
   "source": [
    "## 3. Обучим по adjoint методу"
   ]
  },
  {
   "cell_type": "code",
   "execution_count": 17,
   "metadata": {
    "collapsed": true
   },
   "outputs": [],
   "source": [
    "# Neural ODE solver with adjoint optimizing method\n",
    "opt_neural_ode = AdjointODE(ode_func=ODE_equation(), timestamps=timestamps, ode_solver=euler_step)"
   ]
  },
  {
   "cell_type": "code",
   "execution_count": 19,
   "metadata": {
    "collapsed": true
   },
   "outputs": [],
   "source": [
    "optimizer = SGD([v0], lr=.05)"
   ]
  },
  {
   "cell_type": "code",
   "execution_count": 20,
   "metadata": {
    "scrolled": true
   },
   "outputs": [
    {
     "name": "stderr",
     "output_type": "stream",
     "text": [
      "100%|██████████| 300/300 [00:08<00:00, 36.04it/s]\n"
     ]
    }
   ],
   "source": [
    "loss_history = []\n",
    "for step in tqdm(range(num_steps)):\n",
    "    optimizer.zero_grad()\n",
    "    end_state = opt_neural_ode.forward(init_state)\n",
    "    # Optimizing with regard to r coordinates\n",
    "    loss = torch.sum((end_state[:2] - target_state[:2])**2)\n",
    "    loss.backward()\n",
    "    optimizer.step()\n",
    "    loss_history.append(loss)"
   ]
  },
  {
   "cell_type": "code",
   "execution_count": 21,
   "metadata": {
    "collapsed": true
   },
   "outputs": [],
   "source": [
    "opt_states_history = neural_ode.forward(init_state)\n",
    "opt_states_history = torch.stack(opt_states_history).detach().numpy()\n",
    "opt_trajectory = np.stack(opt_states_history)"
   ]
  },
  {
   "cell_type": "code",
   "execution_count": 22,
   "metadata": {
    "scrolled": true
   },
   "outputs": [
    {
     "data": {
      "image/png": "[encoded data removed]",
      "text/plain": [
       "<Figure size 432x288 with 1 Axes>"
      ]
     },
     "metadata": {},
     "output_type": "display_data"
    }
   ],
   "source": [
    "plot_trajectory({\"initial\": trajectory, \"optimized\": opt_trajectory})"
   ]
  },
  {
   "cell_type": "markdown",
   "metadata": {},
   "source": [
    "## Result\n",
    "\n",
    "This time we tried the adjoint optimizing method that was proposed in the paper https://arxiv.org/pdf/1806.07366.pdf\n",
    "We checked that our implementation works correcly as model returned the same result as regular backpropogation."
   ]
  },
  {
   "cell_type": "code",
   "execution_count": null,
   "metadata": {
    "collapsed": true
   },
   "outputs": [],
   "source": []
  }
 ],
 "metadata": {
  "kernelspec": {
   "display_name": "Python 3",
   "language": "python",
   "name": "python3"
  },
  "language_info": {
   "codemirror_mode": {
    "name": "ipython",
    "version": 3
   },
   "file_extension": ".py",
   "mimetype": "text/x-python",
   "name": "python",
   "nbconvert_exporter": "python",
   "pygments_lexer": "ipython3",
   "version": "3.6.2"
  }
 },
 "nbformat": 4,
 "nbformat_minor": 2
}
